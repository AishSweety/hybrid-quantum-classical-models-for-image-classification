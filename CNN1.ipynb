{
  "nbformat": 4,
  "nbformat_minor": 0,
  "metadata": {
    "colab": {
      "provenance": []
    },
    "kernelspec": {
      "name": "python3",
      "display_name": "Python 3"
    },
    "language_info": {
      "name": "python"
    }
  },
  "cells": [
    {
      "cell_type": "markdown",
      "source": [
        "\n",
        "\n",
        "#CNN1"
      ],
      "metadata": {
        "id": "b56c8rM5cN-U"
      }
    },
    {
      "cell_type": "code",
      "source": [
        "import numpy as np\n",
        "import matplotlib.pyplot as plt\n",
        "\n",
        "from pathlib import Path\n",
        "\n",
        "import torch\n",
        "from torch.autograd import Function\n",
        "from torchvision import datasets, transforms\n",
        "import torch.optim as optim\n",
        "from torch.optim import lr_scheduler\n",
        "import torch.nn as nn\n",
        "import torch.nn.functional as F\n",
        "\n"
      ],
      "metadata": {
        "id": "-RM98MtEeTww"
      },
      "execution_count": 68,
      "outputs": []
    },
    {
      "cell_type": "code",
      "source": [
        "# Loading of the MNIST dataset\n",
        "train_data = datasets.MNIST(\n",
        "    root = 'data',  # root: The root directory where the dataset should be stored. In this case, it is set to 'data'. If the 'data' directory doesn't exist, the dataset will be downloaded to this location.\n",
        "    train = True,\n",
        "    transform = transforms.ToTensor(),  # transform: This parameter applies transformations to the data. In this case, transforms.ToTensor() is used to convert the images to PyTorch tensors.\n",
        "    download = True,\n",
        ")\n",
        "test_data = datasets.MNIST(\n",
        "    root = 'data',\n",
        "    train = False,\n",
        "    transform = transforms.ToTensor()\n",
        ")"
      ],
      "metadata": {
        "id": "_I845zHUeoXV"
      },
      "execution_count": 69,
      "outputs": []
    },
    {
      "cell_type": "code",
      "source": [
        "#Setting of the main hyper-parameters of the model\n",
        "batch_size = 4 # The number of samples in each mini-batch used during training. Smaller batch sizes can lead to faster convergence but may introduce more noise into the training process.\n",
        "n_train = batch_size * 125    # The total size of the training dataset. It's calculated as the product of batch_size and the number of batches (125 in this case). Adjusting the training dataset size can impact the model's ability to generalize.\n",
        "n_test = batch_size * 25     # The total size of the test dataset. Similar to n_train, it's calculated as the product of batch_size and the number of test batches (25 in this case). The test dataset is used to evaluate the model's performance on unseen data.\n",
        "n_channels = 4  # The number of channels in the output of the quantum convolution layer. In your model, you have set it to 4. This parameter determines the depth of the feature maps produced by the convolutional layer.\n",
        "initial_lr =  0.005     # The initial learning rate for the stochastic gradient descent (SGD) optimizer."
      ],
      "metadata": {
        "id": "yFlOU3zGecUq"
      },
      "execution_count": 70,
      "outputs": []
    },
    {
      "cell_type": "code",
      "source": [
        "class Net(nn.Module):\n",
        "    def __init__(self):\n",
        "        super(Net, self).__init__()\n",
        "        # Convolutional layer 1 with 1 input channels, 4 output channels, and 2x2 kernel\n",
        "        self.conv = nn.Conv2d(1, 1, 4, stride=4)\n",
        "        self.fc = nn.Linear(1 * 7 * 7, 10)\n",
        "\n",
        "    def forward(self, x):\n",
        "        # Propagate the input through the CNN layers\n",
        "        x = self.conv(x)\n",
        "        # Flatten the output from the convolutional layer\n",
        "        x = torch.flatten(x, start_dim=1)\n",
        "        x = F.relu(self.fc(x))\n",
        "        return x\n"
      ],
      "metadata": {
        "id": "-3CmM5H-BOh5"
      },
      "execution_count": 71,
      "outputs": []
    },
    {
      "cell_type": "code",
      "source": [
        "cnn = Net()\n",
        "dataset  = train_data\n",
        "train_size = n_train\n",
        "train_set, val_set = torch.utils.data.random_split(dataset, [train_size, len(dataset) - train_size])\n",
        "train_loader = torch.utils.data.DataLoader(train_set, batch_size=batch_size, shuffle=True)\n",
        "for data in train_loader:\n",
        "    inputs, labels = data\n",
        "    print(f\"{inputs.shape=}\")\n",
        "    print(f\"{labels=}\")\n",
        "    outputs = cnn(inputs)\n",
        "    print(f\"{outputs.shape=}\")\n",
        "    print(f\"{outputs=}\")\n",
        "    break"
      ],
      "metadata": {
        "colab": {
          "base_uri": "https://localhost:8080/"
        },
        "id": "QlHwR2hdRzb2",
        "outputId": "e3a911b9-44d7-4d1f-ff6a-1f0f9f271f23"
      },
      "execution_count": 72,
      "outputs": [
        {
          "output_type": "stream",
          "name": "stdout",
          "text": [
            "inputs.shape=torch.Size([4, 1, 28, 28])\n",
            "labels=tensor([5, 8, 7, 0])\n",
            "outputs.shape=torch.Size([4, 10])\n",
            "outputs=tensor([[0.0000, 0.0967, 0.0000, 0.0376, 0.0762, 0.0462, 0.0965, 0.0399, 0.0115,\n",
            "         0.0000],\n",
            "        [0.0145, 0.0863, 0.0000, 0.0000, 0.0000, 0.0170, 0.1100, 0.0616, 0.0000,\n",
            "         0.0000],\n",
            "        [0.0330, 0.0799, 0.0000, 0.0884, 0.0000, 0.0714, 0.0843, 0.1359, 0.0000,\n",
            "         0.0000],\n",
            "        [0.0000, 0.1155, 0.0000, 0.0000, 0.0000, 0.0264, 0.1649, 0.0000, 0.0000,\n",
            "         0.0000]], grad_fn=<ReluBackward0>)\n"
          ]
        }
      ]
    },
    {
      "cell_type": "code",
      "source": [
        "# Train the model\n",
        "\n",
        "import datetime\n",
        "import os\n",
        "\n",
        "dataset  = train_data\n",
        "\n",
        "# Initialize your QCNN model\n",
        "cnn = Net()\n",
        "\n",
        "# Define loss function and optimizer\n",
        "criterion = nn.CrossEntropyLoss()  # Cross-entropy loss for classification\n",
        "optimizer = optim.SGD(cnn.parameters(), lr=initial_lr, momentum=0.90)  # Stochastic Gradient Descent optimizer\n",
        "# Create a learning rate scheduler\n",
        "# Here, we use StepLR which reduces the learning rate by a factor every step_size epochs\n",
        "scheduler = lr_scheduler.StepLR(optimizer, step_size=1, gamma=1.0)\n",
        "# Split your data into training and validation sets\n",
        "train_size = n_train\n",
        "train_set, val_set = torch.utils.data.random_split(dataset, [train_size, len(dataset) - train_size])\n",
        "train_loader = torch.utils.data.DataLoader(train_set, batch_size=batch_size, shuffle=True)\n",
        "val_loader = torch.utils.data.DataLoader(val_set, batch_size=batch_size, shuffle=False)\n",
        "\n",
        "MODEL_PATH = Path(\"models\")\n",
        "MODEL_PATH.mkdir(parents=True, exist_ok=True)\n",
        "\n",
        "MODEL_NAME = \"ImgClass-Quanvolv.pth\"\n",
        "MODEL_SAVE_PATH = MODEL_PATH / MODEL_NAME\n",
        "\n",
        "RESUME_TRAINING = True\n",
        "\n",
        "# Training loop\n",
        "num_epochs = 20\n",
        "loss_list = []\n",
        "cnn.train()\n",
        "\n",
        "if RESUME_TRAINING is False:\n",
        "    print(f\"Restore model state from {MODEL_SAVE_PATH}\")\n",
        "    if os.path.exists(MODEL_SAVE_PATH):\n",
        "        model_dict = torch.load(MODEL_SAVE_PATH)\n",
        "        initial_epoch = model_dict['epoch'] + 1\n",
        "        cnn.load_state_dict(model_dict['model_state_dict'])\n",
        "        optimizer.load_state_dict(model_dict['optimizer_state_dict'])\n",
        "        loss_list = model_dict['loss'].copy()\n",
        "    else:\n",
        "        print(f\"No saved model state found. Training from scratch.\")\n",
        "        initial_epoch = 0\n",
        "        loss_list = []\n",
        "else:\n",
        "    initial_epoch = 0\n",
        "    loss_list = []\n",
        "\n",
        "for epoch in range(num_epochs):\n",
        "    ct = datetime.datetime.now()\n",
        "    # Decay Learning Rate\n",
        "    optimizer.step()\n",
        "    scheduler.step()\n",
        "    lr = scheduler.get_last_lr()\n",
        "    print(f\"{epoch=}, {lr=}, {ct}\")\n",
        "    running_loss = []\n",
        "    for i, data in enumerate(train_loader, 0):\n",
        "        inputs, labels = data\n",
        "        optimizer.zero_grad()  # Zero the parameter gradients to avoid accumulation\n",
        "        outputs = cnn(inputs)  # Forward pass\n",
        "        loss = criterion(outputs, labels)  # Compute the loss\n",
        "        loss.backward()  # Backpropagation\n",
        "        running_loss.append(loss.item())\n",
        "        optimizer.step()  # Update the model parameters\n",
        "    loss_list.append(sum(running_loss) / len(running_loss))\n",
        "    print('Training [{:.0f}%]\\tLoss: {:.4f}'.format(100. * (epoch + 1) / num_epochs, loss_list[-1]))\n",
        "    torch.save({\n",
        "        'epoch': epoch,\n",
        "        'model_state_dict': cnn.state_dict(),\n",
        "        'optimizer_state_dict': optimizer.state_dict(),\n",
        "        'loss': loss_list,\n",
        "    }, MODEL_SAVE_PATH)\n",
        "    print(f\"Saving model state to {MODEL_SAVE_PATH}\")\n",
        "\n",
        "print('Finished Training')"
      ],
      "metadata": {
        "id": "RCxAXutdvoRg",
        "colab": {
          "base_uri": "https://localhost:8080/"
        },
        "outputId": "7a6d30f5-db73-493f-e2d2-7f9b5842128d"
      },
      "execution_count": 73,
      "outputs": [
        {
          "output_type": "stream",
          "name": "stdout",
          "text": [
            "epoch=0, lr=[0.005], 2024-01-06 04:47:25.174867\n",
            "Training [5%]\tLoss: 2.2966\n",
            "Saving model state to models/ImgClass-Quanvolv.pth\n",
            "epoch=1, lr=[0.005], 2024-01-06 04:47:25.448558\n",
            "Training [10%]\tLoss: 2.2018\n",
            "Saving model state to models/ImgClass-Quanvolv.pth\n",
            "epoch=2, lr=[0.005], 2024-01-06 04:47:25.687253\n",
            "Training [15%]\tLoss: 1.5487\n",
            "Saving model state to models/ImgClass-Quanvolv.pth\n",
            "epoch=3, lr=[0.005], 2024-01-06 04:47:25.974222\n",
            "Training [20%]\tLoss: 1.0240\n",
            "Saving model state to models/ImgClass-Quanvolv.pth\n",
            "epoch=4, lr=[0.005], 2024-01-06 04:47:26.233153\n",
            "Training [25%]\tLoss: 0.8959\n",
            "Saving model state to models/ImgClass-Quanvolv.pth\n",
            "epoch=5, lr=[0.005], 2024-01-06 04:47:26.618003\n",
            "Training [30%]\tLoss: 0.7970\n",
            "Saving model state to models/ImgClass-Quanvolv.pth\n",
            "epoch=6, lr=[0.005], 2024-01-06 04:47:26.983339\n",
            "Training [35%]\tLoss: 0.7453\n",
            "Saving model state to models/ImgClass-Quanvolv.pth\n",
            "epoch=7, lr=[0.005], 2024-01-06 04:47:27.339387\n",
            "Training [40%]\tLoss: 0.7120\n",
            "Saving model state to models/ImgClass-Quanvolv.pth\n",
            "epoch=8, lr=[0.005], 2024-01-06 04:47:27.750256\n",
            "Training [45%]\tLoss: 0.6890\n",
            "Saving model state to models/ImgClass-Quanvolv.pth\n",
            "epoch=9, lr=[0.005], 2024-01-06 04:47:28.095177\n",
            "Training [50%]\tLoss: 0.6882\n",
            "Saving model state to models/ImgClass-Quanvolv.pth\n",
            "epoch=10, lr=[0.005], 2024-01-06 04:47:28.431352\n",
            "Training [55%]\tLoss: 0.6109\n",
            "Saving model state to models/ImgClass-Quanvolv.pth\n",
            "epoch=11, lr=[0.005], 2024-01-06 04:47:28.827147\n",
            "Training [60%]\tLoss: 0.6215\n",
            "Saving model state to models/ImgClass-Quanvolv.pth\n",
            "epoch=12, lr=[0.005], 2024-01-06 04:47:29.189826\n",
            "Training [65%]\tLoss: 0.6004\n",
            "Saving model state to models/ImgClass-Quanvolv.pth\n",
            "epoch=13, lr=[0.005], 2024-01-06 04:47:29.535841\n",
            "Training [70%]\tLoss: 0.5856\n",
            "Saving model state to models/ImgClass-Quanvolv.pth\n",
            "epoch=14, lr=[0.005], 2024-01-06 04:47:29.801140\n",
            "Training [75%]\tLoss: 0.5956\n",
            "Saving model state to models/ImgClass-Quanvolv.pth\n",
            "epoch=15, lr=[0.005], 2024-01-06 04:47:30.041473\n",
            "Training [80%]\tLoss: 0.5829\n",
            "Saving model state to models/ImgClass-Quanvolv.pth\n",
            "epoch=16, lr=[0.005], 2024-01-06 04:47:30.319492\n",
            "Training [85%]\tLoss: 0.5417\n",
            "Saving model state to models/ImgClass-Quanvolv.pth\n",
            "epoch=17, lr=[0.005], 2024-01-06 04:47:30.593614\n",
            "Training [90%]\tLoss: 0.5126\n",
            "Saving model state to models/ImgClass-Quanvolv.pth\n",
            "epoch=18, lr=[0.005], 2024-01-06 04:47:30.860810\n",
            "Training [95%]\tLoss: 0.5446\n",
            "Saving model state to models/ImgClass-Quanvolv.pth\n",
            "epoch=19, lr=[0.005], 2024-01-06 04:47:31.128450\n",
            "Training [100%]\tLoss: 0.5426\n",
            "Saving model state to models/ImgClass-Quanvolv.pth\n",
            "Finished Training\n"
          ]
        }
      ]
    },
    {
      "cell_type": "code",
      "source": [
        "cnn.state_dict()"
      ],
      "metadata": {
        "id": "nUl3J1rhtfvQ",
        "colab": {
          "base_uri": "https://localhost:8080/"
        },
        "outputId": "92e7e31b-6fa1-4e25-cf1f-376c3ba5ab77"
      },
      "execution_count": 74,
      "outputs": [
        {
          "output_type": "execute_result",
          "data": {
            "text/plain": [
              "OrderedDict([('conv.weight',\n",
              "              tensor([[[[ 1.4048,  0.3264,  1.0383,  1.2971],\n",
              "                        [ 1.1972,  0.3413,  0.8934,  0.2260],\n",
              "                        [ 0.3179,  0.7019,  0.4972, -0.0530],\n",
              "                        [ 0.4917, -0.2844,  0.6161,  0.6083]]]])),\n",
              "             ('conv.bias', tensor([-1.2372])),\n",
              "             ('fc.weight',\n",
              "              tensor([[ 3.9516e-02, -8.9391e-03,  2.9735e-03, -7.2266e-02, -1.0897e-01,\n",
              "                        4.0562e-02,  1.3330e-02, -1.3625e-02,  2.5555e-01,  8.4740e-02,\n",
              "                        2.7625e-01,  3.2129e-01, -3.1033e-02, -2.0671e-01,  7.9392e-02,\n",
              "                       -5.4600e-01,  2.4809e-01,  4.2205e-01,  5.9236e-02,  2.6793e-01,\n",
              "                        1.6021e-02,  1.3742e-01,  9.3207e-02,  6.1311e-01, -1.1547e+00,\n",
              "                       -6.1099e-01,  6.1775e-01,  2.1080e-01, -2.0552e-02,  2.5187e-01,\n",
              "                        7.2714e-01, -1.0613e+00,  3.2208e-02,  2.1923e-01,  3.7639e-01,\n",
              "                       -7.7008e-02, -4.6974e-02,  9.1232e-01, -1.2347e-01, -1.8920e-01,\n",
              "                        2.4733e-01,  1.2517e-01, -1.0238e-01,  1.6751e-02,  5.9525e-02,\n",
              "                        1.1069e-01, -1.8601e-01, -5.3204e-03,  1.6881e-02],\n",
              "                      [-3.6192e-02,  5.4493e-02,  3.1680e-02,  4.1406e-02, -1.2708e-01,\n",
              "                        2.2807e-02,  2.1444e-02,  8.4755e-02,  7.0894e-02,  5.6158e-02,\n",
              "                       -4.7497e-02, -1.0310e-01,  7.9952e-02,  7.7607e-02,  5.6697e-02,\n",
              "                       -9.2312e-02, -5.0002e-02, -3.8068e-02, -1.5994e-02, -1.1188e-01,\n",
              "                        9.6931e-02, -1.8965e-02, -2.7969e-02,  3.6021e-02, -1.0572e-01,\n",
              "                        1.4151e-02, -6.0890e-02, -1.0724e-02, -5.8725e-02, -7.4264e-02,\n",
              "                       -1.2739e-01, -9.4618e-02, -6.0154e-02,  6.5751e-02, -2.7802e-02,\n",
              "                        1.2717e-01,  8.0848e-02, -8.4595e-02,  2.0592e-02,  1.0631e-01,\n",
              "                       -1.0776e-01, -8.3935e-02,  1.6426e-02,  1.0841e-01,  2.3631e-02,\n",
              "                       -1.0286e-01,  7.8699e-02,  9.4374e-02,  2.8440e-02],\n",
              "                      [-1.5881e-01,  4.4943e-02,  1.3225e-01,  4.3745e-03, -5.1543e-02,\n",
              "                        5.6042e-02, -1.7321e-01, -1.7050e-01,  3.2444e-03,  3.4765e-01,\n",
              "                        6.3836e-01, -4.3278e-01, -3.7222e-01,  2.2531e-01,  1.0259e-01,\n",
              "                        5.3528e-02,  4.2847e-01, -2.2931e-02,  3.0123e-01, -3.5106e-01,\n",
              "                       -4.4605e-02, -7.3440e-02, -6.5674e-01, -6.5953e-01, -1.0008e+00,\n",
              "                       -1.4382e-01, -2.0706e-01,  1.8900e-02, -1.6820e-01,  9.6760e-01,\n",
              "                        4.8350e-01,  2.9994e-01,  1.8156e-01, -1.4609e-01,  1.4241e-01,\n",
              "                       -5.9694e-02,  7.6400e-01,  5.0697e-01, -3.1419e-02,  1.0828e-01,\n",
              "                        9.6191e-01,  2.5402e-01, -9.7012e-02, -4.9915e-02, -3.0773e-01,\n",
              "                        1.9505e-02, -1.3685e-01, -1.5747e-01,  2.2056e-02],\n",
              "                      [-1.3179e-01, -2.5032e-02, -1.5924e-01, -1.6590e-01,  1.0881e-01,\n",
              "                       -4.9108e-02,  8.6894e-03, -4.4048e-02,  2.1537e-01,  6.9329e-01,\n",
              "                        2.8167e-01,  4.6076e-01,  2.6266e-01, -1.2818e-03, -1.4891e-01,\n",
              "                       -2.0506e-01, -6.7152e-01, -8.1662e-02,  3.1654e-01,  3.0378e-01,\n",
              "                       -1.8028e-01, -3.0421e-02, -3.6418e-01, -5.1703e-01,  1.4932e-01,\n",
              "                        2.3619e-01, -5.0433e-01, -2.5283e-02, -1.9715e-01,  2.9533e-01,\n",
              "                       -4.4303e-01, -1.2122e+00,  8.7635e-01,  6.4722e-01, -1.3637e-01,\n",
              "                        3.9300e-02,  2.3581e-01, -5.8410e-01,  1.1449e-01,  4.1370e-01,\n",
              "                       -1.4592e-01, -1.6116e-01, -1.3589e-02,  9.1764e-01,  7.5564e-01,\n",
              "                        7.6356e-01, -2.6992e-02,  2.9534e-02,  4.7044e-02],\n",
              "                      [ 1.7485e-01, -2.6919e-02,  1.4817e-01,  1.4692e-01, -3.0932e-02,\n",
              "                        1.1175e-01,  1.0811e-01, -4.7629e-02, -7.6028e-02, -3.7016e-01,\n",
              "                       -9.0677e-01,  3.1150e-02,  2.8712e-01,  1.1951e-01, -1.5880e-02,\n",
              "                       -9.3328e-03, -3.7832e-01, -1.0750e+00, -3.2539e-01,  2.2106e-01,\n",
              "                        4.4113e-02,  2.3231e-03,  2.7959e-01,  1.7489e+00, -2.6656e-01,\n",
              "                        6.3533e-01,  1.0301e-01,  5.6956e-02, -3.9100e-02, -1.6969e-03,\n",
              "                        4.9899e-01,  1.1352e-01,  4.8352e-01,  1.4766e-01, -1.5708e-01,\n",
              "                        1.0279e-01, -3.6780e-01, -1.1283e+00, -4.8725e-01, -2.9683e-01,\n",
              "                       -1.9176e-01,  3.0236e-02,  4.5318e-02,  1.0482e-02, -2.7236e-01,\n",
              "                       -3.4472e-01, -4.5023e-01,  1.4275e-02,  1.1712e-01],\n",
              "                      [-1.7610e-01, -2.2336e-01, -9.2900e-02, -2.0519e-01, -5.9762e-02,\n",
              "                       -1.9503e-01, -1.2590e-01, -2.9694e-01, -1.4031e-01, -4.4186e-01,\n",
              "                       -1.4337e-01, -6.6036e-02,  6.7138e-01,  8.2501e-02, -1.6842e-01,\n",
              "                       -1.7413e-01,  3.1763e-01, -2.0236e-02, -4.4402e-01,  6.3977e-01,\n",
              "                        7.4786e-01, -4.0373e-02, -2.9013e-02,  8.0607e-01,  2.6007e-01,\n",
              "                       -6.2151e-01, -4.1412e-01, -2.9010e-01, -4.5549e-02,  5.5743e-04,\n",
              "                       -5.1935e-01, -1.1232e+00, -3.1870e-01,  1.6905e-01,  2.6397e-01,\n",
              "                       -1.2840e-01, -2.8200e-01,  3.7611e-01,  2.2851e-01,  3.6634e-01,\n",
              "                        3.8307e-02,  2.2412e-02, -1.1541e-01, -2.9553e-02,  2.3179e-01,\n",
              "                        6.6799e-01, -3.3803e-01, -4.4550e-02, -2.7134e-01],\n",
              "                      [ 1.3825e-01,  2.4101e-02,  2.3982e-01,  1.7226e-01,  2.6642e-01,\n",
              "                        6.6927e-02, -4.3618e-03,  7.6473e-02, -4.7733e-03,  1.5782e-01,\n",
              "                       -6.1078e-01, -1.4987e-01,  2.8631e-02,  1.8857e-01,  1.1530e-01,\n",
              "                       -2.3441e-01, -8.0758e-02, -5.1254e-02, -1.3241e+00, -8.2284e-01,\n",
              "                       -1.2278e-01,  1.9420e-01, -1.9553e-02,  3.7280e-01, -1.6782e-01,\n",
              "                        2.3166e-02,  3.7654e-01,  3.2446e-01,  1.6999e-01,  1.3028e-01,\n",
              "                        9.9995e-01,  3.8728e-01,  3.5863e-01,  5.7643e-01,  5.1182e-02,\n",
              "                       -1.1926e-03, -2.9085e-03,  1.6399e-01,  5.5114e-01,  4.6883e-01,\n",
              "                       -2.6006e-01, -9.9516e-03,  1.8048e-01,  5.1141e-03, -3.0927e-01,\n",
              "                       -2.2117e-01, -1.8719e-02,  2.0913e-01,  2.0808e-01],\n",
              "                      [ 4.0271e-02, -9.0818e-02,  4.0012e-02,  6.0681e-02,  8.4752e-02,\n",
              "                       -2.5054e-02,  1.1475e-01, -8.8231e-02,  2.9376e-01, -6.5522e-02,\n",
              "                       -5.3953e-01, -5.8608e-01, -1.4010e-01, -1.2081e-01, -5.4410e-02,\n",
              "                        2.5739e-01,  4.1932e-01,  4.0477e-01,  5.7905e-01,  4.7881e-01,\n",
              "                       -3.7136e-02,  1.4731e-01, -1.7544e-01, -6.6157e-01, -1.0747e+00,\n",
              "                        4.5838e-01,  3.6600e-02, -1.1188e-01,  4.4505e-02, -7.8272e-02,\n",
              "                       -7.3755e-01,  4.0217e-01,  4.4128e-01, -1.5443e-01,  3.9592e-03,\n",
              "                        5.5246e-02, -2.4772e-01, -6.1794e-01, -3.0037e-02,  4.6874e-02,\n",
              "                       -4.9648e-01, -3.5576e-03,  3.0834e-02,  1.4282e-01, -1.8585e-01,\n",
              "                       -8.7112e-02,  2.0395e-01,  1.3959e-01, -7.6560e-02],\n",
              "                      [ 1.2779e-01,  1.5208e-01,  4.0023e-02,  8.8653e-03, -3.5405e-02,\n",
              "                        1.9084e-01, -3.9200e-02, -6.1964e-02, -1.7048e-01, -9.1533e-02,\n",
              "                        4.8280e-01,  8.4810e-01, -4.5259e-01,  6.4811e-02, -1.9177e-02,\n",
              "                        4.9078e-01,  6.9568e-01, -7.6542e-02, -3.4126e-01,  1.0035e+00,\n",
              "                        7.9551e-01, -8.3518e-02,  1.1030e-02, -1.4257e-01,  2.3750e-01,\n",
              "                        4.8162e-01, -1.3487e-02, -6.3713e-02, -6.7853e-02, -4.9875e-01,\n",
              "                        3.0822e-01,  8.9436e-03, -2.3644e-01, -1.0793e-01, -1.5945e-01,\n",
              "                        8.4852e-03, -4.3368e-01, -9.3560e-02, -2.8644e-01,  9.3931e-02,\n",
              "                       -4.5864e-01, -7.2238e-02,  1.8250e-01, -3.8495e-01, -2.3065e-01,\n",
              "                        4.3112e-01,  2.0016e-01,  1.5119e-01,  2.7250e-02],\n",
              "                      [-6.7383e-02, -7.6093e-02, -3.0245e-02, -5.7215e-02,  2.5727e-02,\n",
              "                       -8.6782e-02, -5.4652e-02, -1.3550e-01, -1.2150e-01, -6.3947e-01,\n",
              "                        2.3127e-01, -2.0515e-01, -4.5082e-01, -2.5826e-02, -3.2389e-02,\n",
              "                        1.1141e-01,  2.4593e-02,  5.0594e-02, -1.9517e-01,  1.7442e-01,\n",
              "                       -2.8398e-01,  1.7936e-04,  5.1665e-01,  4.9924e-01, -5.1164e-01,\n",
              "                        5.6993e-01, -8.9654e-02, -1.3680e-01, -1.2141e-01, -3.7746e-01,\n",
              "                        5.3835e-01, -4.1166e-01,  4.2543e-01, -5.7350e-01, -2.1468e-02,\n",
              "                        8.0114e-02, -2.0817e-01, -1.2528e+00, -2.6281e-01, -6.4290e-01,\n",
              "                        2.4594e-01, -2.8212e-02, -5.7839e-02, -2.3948e-01,  6.6199e-01,\n",
              "                        3.3856e-01,  9.2445e-01,  1.0376e-01,  1.2107e-02]])),\n",
              "             ('fc.bias',\n",
              "              tensor([-0.0784, -0.1995, -0.0360,  0.1387,  0.1450,  0.3877, -0.1174,  0.0136,\n",
              "                      -0.1624,  0.1925]))])"
            ]
          },
          "metadata": {},
          "execution_count": 74
        }
      ]
    },
    {
      "cell_type": "code",
      "source": [
        "#accuracy\n",
        "\n",
        "# Use a small subset of the full validation dataset\n",
        "from torch.utils.data import SubsetRandomSampler\n",
        "\n",
        "K = n_test # enter your length here\n",
        "subsample_train_indices = torch.randperm(len(val_set))[:K]\n",
        "val_loader = torch.utils.data.DataLoader(val_set, batch_size=batch_size, sampler=SubsetRandomSampler(subsample_train_indices))\n",
        "\n",
        "correct = 0\n",
        "total = 0\n",
        "# Set the model to evaluation mode\n",
        "cnn.eval()\n",
        "with torch.inference_mode():\n",
        "    for data in val_loader:\n",
        "        images, labels = data\n",
        "        outputs = cnn(images)\n",
        "        _, predicted = torch.max(outputs.data, 1)\n",
        "        total += labels.size(0)\n",
        "        correct += (predicted == labels).sum().item()\n",
        "print(f'Accuracy on the validation set: {100 * correct / total:.2f}%')"
      ],
      "metadata": {
        "id": "EZCJdLCoqc10",
        "colab": {
          "base_uri": "https://localhost:8080/"
        },
        "outputId": "78c296c0-4ccf-4066-be59-58f2375eaf3b"
      },
      "execution_count": 81,
      "outputs": [
        {
          "output_type": "stream",
          "name": "stdout",
          "text": [
            "Accuracy on the validation set: 79.00%\n"
          ]
        }
      ]
    }
  ]
}