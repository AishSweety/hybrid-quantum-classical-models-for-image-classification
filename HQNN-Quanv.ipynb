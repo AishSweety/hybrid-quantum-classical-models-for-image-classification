{
  "nbformat": 4,
  "nbformat_minor": 0,
  "metadata": {
    "colab": {
      "provenance": [],
      "gpuType": "T4"
    },
    "kernelspec": {
      "name": "python3",
      "display_name": "Python 3"
    },
    "language_info": {
      "name": "python"
    },
    "accelerator": "GPU"
  },
  "cells": [
    {
      "cell_type": "markdown",
      "source": [
        "Install CUDA version of the BLAS libraries"
      ],
      "metadata": {
        "id": "24l7xzNFOcjn"
      }
    },
    {
      "cell_type": "code",
      "source": [
        "!apt-get install libcublas11"
      ],
      "metadata": {
        "id": "LoywvQjw5IXz",
        "colab": {
          "base_uri": "https://localhost:8080/"
        },
        "outputId": "03c2294e-ddfc-4e95-d250-c65f287c68d4"
      },
      "execution_count": null,
      "outputs": [
        {
          "output_type": "stream",
          "name": "stdout",
          "text": [
            "Reading package lists... Done\n",
            "Building dependency tree... Done\n",
            "Reading state information... Done\n",
            "The following additional packages will be installed:\n",
            "  libcublaslt11\n",
            "The following NEW packages will be installed:\n",
            "  libcublas11 libcublaslt11\n",
            "0 upgraded, 2 newly installed, 0 to remove and 24 not upgraded.\n",
            "Need to get 226 MB of archives.\n",
            "After this operation, 498 MB of additional disk space will be used.\n",
            "Get:1 http://archive.ubuntu.com/ubuntu jammy/multiverse amd64 libcublaslt11 amd64 11.7.4.6~11.5.1-1ubuntu1 [148 MB]\n",
            "Get:2 http://archive.ubuntu.com/ubuntu jammy/multiverse amd64 libcublas11 amd64 11.7.4.6~11.5.1-1ubuntu1 [78.2 MB]\n",
            "Fetched 226 MB in 6s (34.9 MB/s)\n",
            "Selecting previously unselected package libcublaslt11:amd64.\n",
            "(Reading database ... 121654 files and directories currently installed.)\n",
            "Preparing to unpack .../libcublaslt11_11.7.4.6~11.5.1-1ubuntu1_amd64.deb ...\n",
            "Unpacking libcublaslt11:amd64 (11.7.4.6~11.5.1-1ubuntu1) ...\n",
            "Selecting previously unselected package libcublas11:amd64.\n",
            "Preparing to unpack .../libcublas11_11.7.4.6~11.5.1-1ubuntu1_amd64.deb ...\n",
            "Unpacking libcublas11:amd64 (11.7.4.6~11.5.1-1ubuntu1) ...\n",
            "Setting up libcublaslt11:amd64 (11.7.4.6~11.5.1-1ubuntu1) ...\n",
            "Setting up libcublas11:amd64 (11.7.4.6~11.5.1-1ubuntu1) ...\n",
            "Processing triggers for libc-bin (2.35-0ubuntu3.4) ...\n",
            "/sbin/ldconfig.real: /usr/local/lib/libtbbmalloc_proxy.so.2 is not a symbolic link\n",
            "\n",
            "/sbin/ldconfig.real: /usr/local/lib/libtbbmalloc.so.2 is not a symbolic link\n",
            "\n",
            "/sbin/ldconfig.real: /usr/local/lib/libtbbbind.so.3 is not a symbolic link\n",
            "\n",
            "/sbin/ldconfig.real: /usr/local/lib/libtbbbind_2_5.so.3 is not a symbolic link\n",
            "\n",
            "/sbin/ldconfig.real: /usr/local/lib/libtbb.so.12 is not a symbolic link\n",
            "\n",
            "/sbin/ldconfig.real: /usr/local/lib/libtbbbind_2_0.so.3 is not a symbolic link\n",
            "\n"
          ]
        }
      ]
    },
    {
      "cell_type": "markdown",
      "source": [
        "Install the 'vanilla' pennylane package first."
      ],
      "metadata": {
        "id": "N6RdWhDUflIa"
      }
    },
    {
      "cell_type": "code",
      "source": [
        "!pip install pennylane"
      ],
      "metadata": {
        "id": "OFoTdhkBokIC",
        "colab": {
          "base_uri": "https://localhost:8080/"
        },
        "outputId": "2bba9218-dc7a-457e-ef1e-40ef25a3e4be"
      },
      "execution_count": null,
      "outputs": [
        {
          "output_type": "stream",
          "name": "stdout",
          "text": [
            "Collecting pennylane\n",
            "  Downloading PennyLane-0.33.1-py3-none-any.whl (1.5 MB)\n",
            "\u001b[2K     \u001b[90m━━━━━━━━━━━━━━━━━━━━━━━━━━━━━━━━━━━━━━━━\u001b[0m \u001b[32m1.5/1.5 MB\u001b[0m \u001b[31m9.9 MB/s\u001b[0m eta \u001b[36m0:00:00\u001b[0m\n",
            "\u001b[?25hRequirement already satisfied: numpy in /usr/local/lib/python3.10/dist-packages (from pennylane) (1.23.5)\n",
            "Requirement already satisfied: scipy in /usr/local/lib/python3.10/dist-packages (from pennylane) (1.11.4)\n",
            "Requirement already satisfied: networkx in /usr/local/lib/python3.10/dist-packages (from pennylane) (3.2.1)\n",
            "Collecting rustworkx (from pennylane)\n",
            "  Downloading rustworkx-0.13.2-cp310-cp310-manylinux_2_17_x86_64.manylinux2014_x86_64.whl (2.0 MB)\n",
            "\u001b[2K     \u001b[90m━━━━━━━━━━━━━━━━━━━━━━━━━━━━━━━━━━━━━━━━\u001b[0m \u001b[32m2.0/2.0 MB\u001b[0m \u001b[31m22.3 MB/s\u001b[0m eta \u001b[36m0:00:00\u001b[0m\n",
            "\u001b[?25hRequirement already satisfied: autograd in /usr/local/lib/python3.10/dist-packages (from pennylane) (1.6.2)\n",
            "Requirement already satisfied: toml in /usr/local/lib/python3.10/dist-packages (from pennylane) (0.10.2)\n",
            "Requirement already satisfied: appdirs in /usr/local/lib/python3.10/dist-packages (from pennylane) (1.4.4)\n",
            "Collecting semantic-version>=2.7 (from pennylane)\n",
            "  Downloading semantic_version-2.10.0-py2.py3-none-any.whl (15 kB)\n",
            "Collecting autoray>=0.6.1 (from pennylane)\n",
            "  Downloading autoray-0.6.7-py3-none-any.whl (49 kB)\n",
            "\u001b[2K     \u001b[90m━━━━━━━━━━━━━━━━━━━━━━━━━━━━━━━━━━━━━━━━\u001b[0m \u001b[32m49.9/49.9 kB\u001b[0m \u001b[31m7.5 MB/s\u001b[0m eta \u001b[36m0:00:00\u001b[0m\n",
            "\u001b[?25hRequirement already satisfied: cachetools in /usr/local/lib/python3.10/dist-packages (from pennylane) (5.3.2)\n",
            "Collecting pennylane-lightning>=0.33 (from pennylane)\n",
            "  Downloading PennyLane_Lightning-0.33.1-cp310-cp310-manylinux_2_17_x86_64.manylinux2014_x86_64.whl (14.0 MB)\n",
            "\u001b[2K     \u001b[90m━━━━━━━━━━━━━━━━━━━━━━━━━━━━━━━━━━━━━━━━\u001b[0m \u001b[32m14.0/14.0 MB\u001b[0m \u001b[31m51.5 MB/s\u001b[0m eta \u001b[36m0:00:00\u001b[0m\n",
            "\u001b[?25hRequirement already satisfied: requests in /usr/local/lib/python3.10/dist-packages (from pennylane) (2.31.0)\n",
            "Requirement already satisfied: typing-extensions in /usr/local/lib/python3.10/dist-packages (from pennylane) (4.5.0)\n",
            "Requirement already satisfied: future>=0.15.2 in /usr/local/lib/python3.10/dist-packages (from autograd->pennylane) (0.18.3)\n",
            "Requirement already satisfied: charset-normalizer<4,>=2 in /usr/local/lib/python3.10/dist-packages (from requests->pennylane) (3.3.2)\n",
            "Requirement already satisfied: idna<4,>=2.5 in /usr/local/lib/python3.10/dist-packages (from requests->pennylane) (3.6)\n",
            "Requirement already satisfied: urllib3<3,>=1.21.1 in /usr/local/lib/python3.10/dist-packages (from requests->pennylane) (2.0.7)\n",
            "Requirement already satisfied: certifi>=2017.4.17 in /usr/local/lib/python3.10/dist-packages (from requests->pennylane) (2023.11.17)\n",
            "Installing collected packages: semantic-version, rustworkx, autoray, pennylane-lightning, pennylane\n",
            "Successfully installed autoray-0.6.7 pennylane-0.33.1 pennylane-lightning-0.33.1 rustworkx-0.13.2 semantic-version-2.10.0\n"
          ]
        }
      ]
    },
    {
      "cell_type": "markdown",
      "source": [
        "Now we build the \"lightning\" and \"lightning-gpu\" device code from source. We could probably use pre-packaged versions but this is what i managed to get working. I'll play with using the pre-packaged versions sometime soon."
      ],
      "metadata": {
        "id": "rr8Rnnyjfrlc"
      }
    },
    {
      "cell_type": "code",
      "execution_count": null,
      "metadata": {
        "id": "4lnQQLM9oT6o",
        "colab": {
          "base_uri": "https://localhost:8080/"
        },
        "outputId": "3eacef71-d2c1-4b4f-9a72-26c958ee2e29"
      },
      "outputs": [
        {
          "output_type": "stream",
          "name": "stdout",
          "text": [
            "Cloning into 'pennylane-lightning'...\n",
            "remote: Enumerating objects: 17777, done.\u001b[K\n",
            "remote: Counting objects: 100% (4901/4901), done.\u001b[K\n",
            "remote: Compressing objects: 100% (1719/1719), done.\u001b[K\n",
            "remote: Total 17777 (delta 3894), reused 3928 (delta 3179), pack-reused 12876\u001b[K\n",
            "Receiving objects: 100% (17777/17777), 5.31 MiB | 8.68 MiB/s, done.\n",
            "Resolving deltas: 100% (13607/13607), done.\n"
          ]
        }
      ],
      "source": [
        "!git clone https://github.com/PennyLaneAI/pennylane-lightning.git"
      ]
    },
    {
      "cell_type": "code",
      "source": [
        "import os\n",
        "os.chdir(\"pennylane-lightning\")\n",
        "!pip install -r requirements.txt\n",
        "!PL_BACKEND=\"lightning_qubit\" pip install -e . -vv"
      ],
      "metadata": {
        "id": "pfblzK6voeq5",
        "colab": {
          "base_uri": "https://localhost:8080/"
        },
        "outputId": "c54d956c-380e-4b0c-dc07-ecef78aabb18"
      },
      "execution_count": null,
      "outputs": [
        {
          "output_type": "stream",
          "name": "stdout",
          "text": [
            "Collecting ninja (from -r requirements.txt (line 1))\n",
            "  Downloading ninja-1.11.1.1-py2.py3-none-manylinux1_x86_64.manylinux_2_5_x86_64.whl (307 kB)\n",
            "\u001b[?25l     \u001b[90m━━━━━━━━━━━━━━━━━━━━━━━━━━━━━━━━━━━━━━━━\u001b[0m \u001b[32m0.0/307.2 kB\u001b[0m \u001b[31m?\u001b[0m eta \u001b[36m-:--:--\u001b[0m\r\u001b[2K     \u001b[91m━━━━━━━━━━\u001b[0m\u001b[91m╸\u001b[0m\u001b[90m━━━━━━━━━━━━━━━━━━━━━━━━━━━━━\u001b[0m \u001b[32m81.9/307.2 kB\u001b[0m \u001b[31m2.3 MB/s\u001b[0m eta \u001b[36m0:00:01\u001b[0m\r\u001b[2K     \u001b[91m━━━━━━━━━━━━━━━━━━━━━━━━━━━━━━━━━━━━━━\u001b[0m\u001b[91m╸\u001b[0m\u001b[90m━\u001b[0m \u001b[32m297.0/307.2 kB\u001b[0m \u001b[31m4.9 MB/s\u001b[0m eta \u001b[36m0:00:01\u001b[0m\r\u001b[2K     \u001b[90m━━━━━━━━━━━━━━━━━━━━━━━━━━━━━━━━━━━━━━━━\u001b[0m \u001b[32m307.2/307.2 kB\u001b[0m \u001b[31m4.1 MB/s\u001b[0m eta \u001b[36m0:00:00\u001b[0m\n",
            "\u001b[?25hCollecting flaky (from -r requirements.txt (line 2))\n",
            "  Downloading flaky-3.7.0-py2.py3-none-any.whl (22 kB)\n",
            "Requirement already satisfied: pennylane>=0.32 in /usr/local/lib/python3.10/dist-packages (from -r requirements.txt (line 3)) (0.33.1)\n",
            "Collecting pybind11 (from -r requirements.txt (line 4))\n",
            "  Downloading pybind11-2.11.1-py3-none-any.whl (227 kB)\n",
            "\u001b[2K     \u001b[90m━━━━━━━━━━━━━━━━━━━━━━━━━━━━━━━━━━━━━━━━\u001b[0m \u001b[32m227.7/227.7 kB\u001b[0m \u001b[31m9.3 MB/s\u001b[0m eta \u001b[36m0:00:00\u001b[0m\n",
            "\u001b[?25hRequirement already satisfied: pytest in /usr/local/lib/python3.10/dist-packages (from -r requirements.txt (line 5)) (7.4.3)\n",
            "Collecting pytest-cov (from -r requirements.txt (line 6))\n",
            "  Downloading pytest_cov-4.1.0-py3-none-any.whl (21 kB)\n",
            "Collecting pytest-mock (from -r requirements.txt (line 7))\n",
            "  Downloading pytest_mock-3.12.0-py3-none-any.whl (9.8 kB)\n",
            "Requirement already satisfied: numpy in /usr/local/lib/python3.10/dist-packages (from pennylane>=0.32->-r requirements.txt (line 3)) (1.23.5)\n",
            "Requirement already satisfied: scipy in /usr/local/lib/python3.10/dist-packages (from pennylane>=0.32->-r requirements.txt (line 3)) (1.11.4)\n",
            "Requirement already satisfied: networkx in /usr/local/lib/python3.10/dist-packages (from pennylane>=0.32->-r requirements.txt (line 3)) (3.2.1)\n",
            "Requirement already satisfied: rustworkx in /usr/local/lib/python3.10/dist-packages (from pennylane>=0.32->-r requirements.txt (line 3)) (0.13.2)\n",
            "Requirement already satisfied: autograd in /usr/local/lib/python3.10/dist-packages (from pennylane>=0.32->-r requirements.txt (line 3)) (1.6.2)\n",
            "Requirement already satisfied: toml in /usr/local/lib/python3.10/dist-packages (from pennylane>=0.32->-r requirements.txt (line 3)) (0.10.2)\n",
            "Requirement already satisfied: appdirs in /usr/local/lib/python3.10/dist-packages (from pennylane>=0.32->-r requirements.txt (line 3)) (1.4.4)\n",
            "Requirement already satisfied: semantic-version>=2.7 in /usr/local/lib/python3.10/dist-packages (from pennylane>=0.32->-r requirements.txt (line 3)) (2.10.0)\n",
            "Requirement already satisfied: autoray>=0.6.1 in /usr/local/lib/python3.10/dist-packages (from pennylane>=0.32->-r requirements.txt (line 3)) (0.6.7)\n",
            "Requirement already satisfied: cachetools in /usr/local/lib/python3.10/dist-packages (from pennylane>=0.32->-r requirements.txt (line 3)) (5.3.2)\n",
            "Requirement already satisfied: pennylane-lightning>=0.33 in /usr/local/lib/python3.10/dist-packages (from pennylane>=0.32->-r requirements.txt (line 3)) (0.33.1)\n",
            "Requirement already satisfied: requests in /usr/local/lib/python3.10/dist-packages (from pennylane>=0.32->-r requirements.txt (line 3)) (2.31.0)\n",
            "Requirement already satisfied: typing-extensions in /usr/local/lib/python3.10/dist-packages (from pennylane>=0.32->-r requirements.txt (line 3)) (4.5.0)\n",
            "Requirement already satisfied: iniconfig in /usr/local/lib/python3.10/dist-packages (from pytest->-r requirements.txt (line 5)) (2.0.0)\n",
            "Requirement already satisfied: packaging in /usr/local/lib/python3.10/dist-packages (from pytest->-r requirements.txt (line 5)) (23.2)\n",
            "Requirement already satisfied: pluggy<2.0,>=0.12 in /usr/local/lib/python3.10/dist-packages (from pytest->-r requirements.txt (line 5)) (1.3.0)\n",
            "Requirement already satisfied: exceptiongroup>=1.0.0rc8 in /usr/local/lib/python3.10/dist-packages (from pytest->-r requirements.txt (line 5)) (1.2.0)\n",
            "Requirement already satisfied: tomli>=1.0.0 in /usr/local/lib/python3.10/dist-packages (from pytest->-r requirements.txt (line 5)) (2.0.1)\n",
            "Collecting coverage[toml]>=5.2.1 (from pytest-cov->-r requirements.txt (line 6))\n",
            "  Downloading coverage-7.4.0-cp310-cp310-manylinux_2_5_x86_64.manylinux1_x86_64.manylinux_2_17_x86_64.manylinux2014_x86_64.whl (233 kB)\n",
            "\u001b[2K     \u001b[90m━━━━━━━━━━━━━━━━━━━━━━━━━━━━━━━━━━━━━━━━\u001b[0m \u001b[32m233.2/233.2 kB\u001b[0m \u001b[31m11.2 MB/s\u001b[0m eta \u001b[36m0:00:00\u001b[0m\n",
            "\u001b[?25hRequirement already satisfied: future>=0.15.2 in /usr/local/lib/python3.10/dist-packages (from autograd->pennylane>=0.32->-r requirements.txt (line 3)) (0.18.3)\n",
            "Requirement already satisfied: charset-normalizer<4,>=2 in /usr/local/lib/python3.10/dist-packages (from requests->pennylane>=0.32->-r requirements.txt (line 3)) (3.3.2)\n",
            "Requirement already satisfied: idna<4,>=2.5 in /usr/local/lib/python3.10/dist-packages (from requests->pennylane>=0.32->-r requirements.txt (line 3)) (3.6)\n",
            "Requirement already satisfied: urllib3<3,>=1.21.1 in /usr/local/lib/python3.10/dist-packages (from requests->pennylane>=0.32->-r requirements.txt (line 3)) (2.0.7)\n",
            "Requirement already satisfied: certifi>=2017.4.17 in /usr/local/lib/python3.10/dist-packages (from requests->pennylane>=0.32->-r requirements.txt (line 3)) (2023.11.17)\n",
            "Installing collected packages: ninja, pybind11, flaky, coverage, pytest-mock, pytest-cov\n",
            "Successfully installed coverage-7.4.0 flaky-3.7.0 ninja-1.11.1.1 pybind11-2.11.1 pytest-cov-4.1.0 pytest-mock-3.12.0\n",
            "Using pip 23.1.2 from /usr/local/lib/python3.10/dist-packages/pip (python 3.10)\n",
            "Non-user install because site-packages writeable\n",
            "Created temporary directory: /tmp/pip-build-tracker-p4tu1ixn\n",
            "Initialized build tracking at /tmp/pip-build-tracker-p4tu1ixn\n",
            "Created build tracker: /tmp/pip-build-tracker-p4tu1ixn\n",
            "Entered build tracker: /tmp/pip-build-tracker-p4tu1ixn\n",
            "Created temporary directory: /tmp/pip-install-m_bfbooo\n",
            "Created temporary directory: /tmp/pip-ephem-wheel-cache-wv115m9f\n",
            "Obtaining file:///content/pennylane-lightning\n",
            "  Added file:///content/pennylane-lightning to build tracker '/tmp/pip-build-tracker-p4tu1ixn'\n",
            "  Running setup.py (path:/content/pennylane-lightning/setup.py) egg_info for package from file:///content/pennylane-lightning\n",
            "  Created temporary directory: /tmp/pip-pip-egg-info-2xv_b70j\n",
            "  Running command python setup.py egg_info\n",
            "  /usr/local/lib/python3.10/dist-packages/setuptools/dist.py:519: InformationOnly: Normalizing '0.34.0-dev27' to '0.34.0.dev27'\n",
            "    self.metadata.version = self._normalize_version(\n",
            "  running egg_info\n",
            "  creating /tmp/pip-pip-egg-info-2xv_b70j/PennyLane_Lightning.egg-info\n",
            "  writing /tmp/pip-pip-egg-info-2xv_b70j/PennyLane_Lightning.egg-info/PKG-INFO\n",
            "  writing dependency_links to /tmp/pip-pip-egg-info-2xv_b70j/PennyLane_Lightning.egg-info/dependency_links.txt\n",
            "  writing entry points to /tmp/pip-pip-egg-info-2xv_b70j/PennyLane_Lightning.egg-info/entry_points.txt\n",
            "  writing requirements to /tmp/pip-pip-egg-info-2xv_b70j/PennyLane_Lightning.egg-info/requires.txt\n",
            "  writing top-level names to /tmp/pip-pip-egg-info-2xv_b70j/PennyLane_Lightning.egg-info/top_level.txt\n",
            "  writing manifest file '/tmp/pip-pip-egg-info-2xv_b70j/PennyLane_Lightning.egg-info/SOURCES.txt'\n",
            "  reading manifest file '/tmp/pip-pip-egg-info-2xv_b70j/PennyLane_Lightning.egg-info/SOURCES.txt'\n",
            "  reading manifest template 'MANIFEST.in'\n",
            "  warning: no files found matching 'pennylane_lightning/lightning_qpu/lightning_gpu.toml'\n",
            "  adding license file 'LICENSE'\n",
            "  writing manifest file '/tmp/pip-pip-egg-info-2xv_b70j/PennyLane_Lightning.egg-info/SOURCES.txt'\n",
            "  Preparing metadata (setup.py) ... \u001b[?25l\u001b[?25hdone\n",
            "  Source in /content/pennylane-lightning has version 0.34.0.dev27, which satisfies requirement PennyLane-Lightning==0.34.0.dev27 from file:///content/pennylane-lightning\n",
            "  Removed PennyLane-Lightning==0.34.0.dev27 from file:///content/pennylane-lightning from build tracker '/tmp/pip-build-tracker-p4tu1ixn'\n",
            "Requirement already satisfied: pennylane>=0.32 in /usr/local/lib/python3.10/dist-packages (from PennyLane-Lightning==0.34.0.dev27) (0.33.1)\n",
            "Requirement already satisfied: numpy in /usr/local/lib/python3.10/dist-packages (from pennylane>=0.32->PennyLane-Lightning==0.34.0.dev27) (1.23.5)\n",
            "Requirement already satisfied: scipy in /usr/local/lib/python3.10/dist-packages (from pennylane>=0.32->PennyLane-Lightning==0.34.0.dev27) (1.11.4)\n",
            "Requirement already satisfied: networkx in /usr/local/lib/python3.10/dist-packages (from pennylane>=0.32->PennyLane-Lightning==0.34.0.dev27) (3.2.1)\n",
            "Requirement already satisfied: rustworkx in /usr/local/lib/python3.10/dist-packages (from pennylane>=0.32->PennyLane-Lightning==0.34.0.dev27) (0.13.2)\n",
            "Requirement already satisfied: autograd in /usr/local/lib/python3.10/dist-packages (from pennylane>=0.32->PennyLane-Lightning==0.34.0.dev27) (1.6.2)\n",
            "Requirement already satisfied: toml in /usr/local/lib/python3.10/dist-packages (from pennylane>=0.32->PennyLane-Lightning==0.34.0.dev27) (0.10.2)\n",
            "Requirement already satisfied: appdirs in /usr/local/lib/python3.10/dist-packages (from pennylane>=0.32->PennyLane-Lightning==0.34.0.dev27) (1.4.4)\n",
            "Requirement already satisfied: semantic-version>=2.7 in /usr/local/lib/python3.10/dist-packages (from pennylane>=0.32->PennyLane-Lightning==0.34.0.dev27) (2.10.0)\n",
            "Requirement already satisfied: autoray>=0.6.1 in /usr/local/lib/python3.10/dist-packages (from pennylane>=0.32->PennyLane-Lightning==0.34.0.dev27) (0.6.7)\n",
            "Requirement already satisfied: cachetools in /usr/local/lib/python3.10/dist-packages (from pennylane>=0.32->PennyLane-Lightning==0.34.0.dev27) (5.3.2)\n",
            "Requirement already satisfied: requests in /usr/local/lib/python3.10/dist-packages (from pennylane>=0.32->PennyLane-Lightning==0.34.0.dev27) (2.31.0)\n",
            "Requirement already satisfied: typing-extensions in /usr/local/lib/python3.10/dist-packages (from pennylane>=0.32->PennyLane-Lightning==0.34.0.dev27) (4.5.0)\n",
            "Requirement already satisfied: future>=0.15.2 in /usr/local/lib/python3.10/dist-packages (from autograd->pennylane>=0.32->PennyLane-Lightning==0.34.0.dev27) (0.18.3)\n",
            "Requirement already satisfied: charset-normalizer<4,>=2 in /usr/local/lib/python3.10/dist-packages (from requests->pennylane>=0.32->PennyLane-Lightning==0.34.0.dev27) (3.3.2)\n",
            "Requirement already satisfied: idna<4,>=2.5 in /usr/local/lib/python3.10/dist-packages (from requests->pennylane>=0.32->PennyLane-Lightning==0.34.0.dev27) (3.6)\n",
            "Requirement already satisfied: urllib3<3,>=1.21.1 in /usr/local/lib/python3.10/dist-packages (from requests->pennylane>=0.32->PennyLane-Lightning==0.34.0.dev27) (2.0.7)\n",
            "Requirement already satisfied: certifi>=2017.4.17 in /usr/local/lib/python3.10/dist-packages (from requests->pennylane>=0.32->PennyLane-Lightning==0.34.0.dev27) (2023.11.17)\n",
            "Created temporary directory: /tmp/pip-unpack-hh6m5wnk\n",
            "Installing collected packages: PennyLane-Lightning\n",
            "  Attempting uninstall: PennyLane-Lightning\n",
            "    Found existing installation: PennyLane-Lightning 0.33.1\n",
            "    Uninstalling PennyLane-Lightning-0.33.1:\n",
            "      Created temporary directory: /usr/local/lib/python3.10/dist-packages/~ennyLane_Lightning-0.33.1.dist-info\n",
            "      Removing file or directory /usr/local/lib/python3.10/dist-packages/PennyLane_Lightning-0.33.1.dist-info/\n",
            "      Created temporary directory: /usr/local/lib/python3.10/dist-packages/~ennyLane_Lightning.libs\n",
            "      Removing file or directory /usr/local/lib/python3.10/dist-packages/PennyLane_Lightning.libs/\n",
            "      Created temporary directory: /usr/local/lib/python3.10/dist-packages/~ennylane_lightning\n",
            "      Removing file or directory /usr/local/lib/python3.10/dist-packages/pennylane_lightning/\n",
            "      Successfully uninstalled PennyLane-Lightning-0.33.1\n",
            "  Running setup.py develop for PennyLane-Lightning\n",
            "    Running command python setup.py develop\n",
            "    /usr/local/lib/python3.10/dist-packages/setuptools/dist.py:519: InformationOnly: Normalizing '0.34.0-dev27' to '0.34.0.dev27'\n",
            "      self.metadata.version = self._normalize_version(\n",
            "    running develop\n",
            "    /usr/local/lib/python3.10/dist-packages/setuptools/command/develop.py:40: EasyInstallDeprecationWarning: easy_install command is deprecated.\n",
            "    !!\n",
            "\n",
            "            ********************************************************************************\n",
            "            Please avoid running ``setup.py`` and ``easy_install``.\n",
            "            Instead, use pypa/build, pypa/installer, pypa/build or\n",
            "            other standards-based tools.\n",
            "\n",
            "            See https://github.com/pypa/setuptools/issues/917 for details.\n",
            "            ********************************************************************************\n",
            "\n",
            "    !!\n",
            "      easy_install.initialize_options(self)\n",
            "    /usr/local/lib/python3.10/dist-packages/setuptools/_distutils/cmd.py:66: SetuptoolsDeprecationWarning: setup.py install is deprecated.\n",
            "    !!\n",
            "\n",
            "            ********************************************************************************\n",
            "            Please avoid running ``setup.py`` directly.\n",
            "            Instead, use pypa/build, pypa/installer, pypa/build or\n",
            "            other standards-based tools.\n",
            "\n",
            "            See https://blog.ganssle.io/articles/2021/10/setup-py-deprecated.html for details.\n",
            "            ********************************************************************************\n",
            "\n",
            "    !!\n",
            "      self.initialize_options()\n",
            "    running egg_info\n",
            "    creating PennyLane_Lightning.egg-info\n",
            "    writing PennyLane_Lightning.egg-info/PKG-INFO\n",
            "    writing dependency_links to PennyLane_Lightning.egg-info/dependency_links.txt\n",
            "    writing entry points to PennyLane_Lightning.egg-info/entry_points.txt\n",
            "    writing requirements to PennyLane_Lightning.egg-info/requires.txt\n",
            "    writing top-level names to PennyLane_Lightning.egg-info/top_level.txt\n",
            "    writing manifest file 'PennyLane_Lightning.egg-info/SOURCES.txt'\n",
            "    reading manifest file 'PennyLane_Lightning.egg-info/SOURCES.txt'\n",
            "    reading manifest template 'MANIFEST.in'\n",
            "    warning: no files found matching 'pennylane_lightning/lightning_qpu/lightning_gpu.toml'\n",
            "    adding license file 'LICENSE'\n",
            "    writing manifest file 'PennyLane_Lightning.egg-info/SOURCES.txt'\n",
            "    running build_ext\n",
            "    ░█░░░▀█▀░█▀▀░█░█░▀█▀░█▀█░▀█▀░█▀█░█▀▀░\n",
            "    ░█░░░░█░░█░█░█▀█░░█░░█░█░░█░░█░█░█░█░\n",
            "    ░▀▀▀░▀▀▀░▀▀▀░▀░▀░░▀░░▀░▀░▀▀▀░▀░▀░▀▀▀░\n",
            "\n",
            "    -- The CXX compiler identification is GNU 11.4.0\n",
            "    -- Detecting CXX compiler ABI info\n",
            "    -- Detecting CXX compiler ABI info - done\n",
            "    -- Check for working CXX compiler: /usr/bin/c++ - skipped\n",
            "    -- Detecting CXX compile features\n",
            "    -- Detecting CXX compile features - done\n",
            "    -- pennylane_lightning version 0.34.0-dev27\n",
            "    -- Found OpenMP_CXX: -fopenmp (found version \"4.5\")\n",
            "    -- Found OpenMP: TRUE (found version \"4.5\")\n",
            "    -- PL_BACKEND: lightning_qubit\n",
            "    -- ENABLE_WARNINGS is OFF.\n",
            "    -- ENABLE_OPENMP is ON.\n",
            "    -- Found OpenMP_CXX: -fopenmp (found version \"4.5\")\n",
            "    -- ENABLE AVX for X64 on UNIX compatible system.\n",
            "    -- Found Python: /usr/local/bin/python (found version \"3.10.12\") found components: Interpreter Development Development.Module Development.Embed\n",
            "    -- pybind11 v2.11.1\n",
            "    -- Performing Test HAS_FLTO\n",
            "    -- Performing Test HAS_FLTO - Success\n",
            "    -- The C compiler identification is GNU 11.4.0\n",
            "    -- Detecting C compiler ABI info\n",
            "    -- Detecting C compiler ABI info - done\n",
            "    -- Check for working C compiler: /usr/bin/cc - skipped\n",
            "    -- Detecting C compile features\n",
            "    -- Detecting C compile features - done\n",
            "    ░█░░░▀█▀░█▀▀░█░█░▀█▀░█▀█░▀█▀░█▀█░█▀▀░░░░▄▀▄░█░█░█▀▄░▀█▀░▀█▀\n",
            "    ░█░░░░█░░█░█░█▀█░░█░░█░█░░█░░█░█░█░█░░░░█\\█░█░█░█▀▄░░█░░░█░\n",
            "    ░▀▀▀░▀▀▀░▀▀▀░▀░▀░░▀░░▀░▀░▀▀▀░▀░▀░▀▀▀░▀░░░▀\\░▀▀▀░▀▀░░▀▀▀░░▀░\n",
            "\n",
            "    -- ENABLE_BLAS is OFF.\n",
            "    -- Compiling for x86. Enable AVX2/AVX512 kernels (runtime enabled).\n",
            "    -- ENABLE_PYTHON is ON.\n",
            "    -- Configuring done (5.1s)\n",
            "    -- Generating done (0.0s)\n",
            "    CMake Warning:\n",
            "      Manually-specified variables were not used by the project:\n",
            "\n",
            "        PYTHON_EXECUTABLE\n",
            "\n",
            "\n",
            "    -- Build files have been written to: /content/pennylane-lightning/build_lightning_qubit\n",
            "    Change Dir: '/content/pennylane-lightning/build_lightning_qubit'\n",
            "\n",
            "    Run Build Command(s): /usr/local/bin/ninja -v\n",
            "    [1/25] /usr/bin/c++  -I/content/pennylane-lightning/pennylane_lightning/core/src/simulators/lightning_qubit -I/content/pennylane-lightning/pennylane_lightning/core/src/simulators/base -I/content/pennylane-lightning/pennylane_lightning/core/src/utils -I/content/pennylane-lightning/pennylane_lightning/core/src/simulators/lightning_qubit/utils -I/content/pennylane-lightning/pennylane_lightning/core/src/gates -I/content/pennylane-lightning/pennylane_lightning/core/src/simulators/lightning_qubit/gates -O2 -g -DNDEBUG -std=gnu++20 -fPIC -fwrapv -fno-plt -pipe -DPL_USE_OMP=1 -mavx -D_ENABLE_PLQUBIT=1 -fopenmp -MD -MT pennylane_lightning/core/src/simulators/lightning_qubit/CMakeFiles/lightning_qubit.dir/StateVectorLQubitRaw.cpp.o -MF pennylane_lightning/core/src/simulators/lightning_qubit/CMakeFiles/lightning_qubit.dir/StateVectorLQubitRaw.cpp.o.d -o pennylane_lightning/core/src/simulators/lightning_qubit/CMakeFiles/lightning_qubit.dir/StateVectorLQubitRaw.cpp.o -c /content/pennylane-lightning/pennylane_lightning/core/src/simulators/lightning_qubit/StateVectorLQubitRaw.cpp\n",
            "    [2/25] /usr/bin/c++  -I/content/pennylane-lightning/pennylane_lightning/core/src/simulators/lightning_qubit -I/content/pennylane-lightning/pennylane_lightning/core/src/simulators/base -I/content/pennylane-lightning/pennylane_lightning/core/src/utils -I/content/pennylane-lightning/pennylane_lightning/core/src/simulators/lightning_qubit/utils -I/content/pennylane-lightning/pennylane_lightning/core/src/gates -I/content/pennylane-lightning/pennylane_lightning/core/src/simulators/lightning_qubit/gates -O2 -g -DNDEBUG -std=gnu++20 -fPIC -fwrapv -fno-plt -pipe -DPL_USE_OMP=1 -mavx -D_ENABLE_PLQUBIT=1 -fopenmp -MD -MT pennylane_lightning/core/src/simulators/lightning_qubit/CMakeFiles/lightning_qubit.dir/StateVectorLQubitManaged.cpp.o -MF pennylane_lightning/core/src/simulators/lightning_qubit/CMakeFiles/lightning_qubit.dir/StateVectorLQubitManaged.cpp.o.d -o pennylane_lightning/core/src/simulators/lightning_qubit/CMakeFiles/lightning_qubit.dir/StateVectorLQubitManaged.cpp.o -c /content/pennylane-lightning/pennylane_lightning/core/src/simulators/lightning_qubit/StateVectorLQubitManaged.cpp\n",
            "    [3/25] /usr/bin/c++  -I/content/pennylane-lightning/pennylane_lightning/core/src/gates -I/content/pennylane-lightning/pennylane_lightning/core/src/utils -I/content/pennylane-lightning/pennylane_lightning/core/src/simulators/lightning_qubit/gates -I/content/pennylane-lightning/pennylane_lightning/core/src/simulators/lightning_qubit/utils -O2 -g -DNDEBUG -std=gnu++20 -fPIC -fwrapv -fno-plt -pipe -DPL_USE_OMP=1 -mavx -D_ENABLE_PLQUBIT=1 -fopenmp -MD -MT pennylane_lightning/core/src/simulators/lightning_qubit/gates/CMakeFiles/lq_gates_kernel_map.dir/KernelMap_X64.cpp.o -MF pennylane_lightning/core/src/simulators/lightning_qubit/gates/CMakeFiles/lq_gates_kernel_map.dir/KernelMap_X64.cpp.o.d -o pennylane_lightning/core/src/simulators/lightning_qubit/gates/CMakeFiles/lq_gates_kernel_map.dir/KernelMap_X64.cpp.o -c /content/pennylane-lightning/pennylane_lightning/core/src/simulators/lightning_qubit/gates/KernelMap_X64.cpp\n",
            "    [4/25] /usr/bin/c++  -I/content/pennylane-lightning/pennylane_lightning/core/src/gates -I/content/pennylane-lightning/pennylane_lightning/core/src/utils -I/content/pennylane-lightning/pennylane_lightning/core/src/simulators/lightning_qubit/gates -I/content/pennylane-lightning/pennylane_lightning/core/src/simulators/lightning_qubit/utils -O2 -g -DNDEBUG -std=gnu++20 -fPIC -fwrapv -fno-plt -pipe -DPL_USE_OMP=1 -mavx -D_ENABLE_PLQUBIT=1 -fopenmp -MD -MT pennylane_lightning/core/src/simulators/lightning_qubit/gates/CMakeFiles/lq_gates_kernel_map.dir/AssignKernelMap_AVX2.cpp.o -MF pennylane_lightning/core/src/simulators/lightning_qubit/gates/CMakeFiles/lq_gates_kernel_map.dir/AssignKernelMap_AVX2.cpp.o.d -o pennylane_lightning/core/src/simulators/lightning_qubit/gates/CMakeFiles/lq_gates_kernel_map.dir/AssignKernelMap_AVX2.cpp.o -c /content/pennylane-lightning/pennylane_lightning/core/src/simulators/lightning_qubit/gates/AssignKernelMap_AVX2.cpp\n",
            "    [5/25] /usr/bin/c++  -I/content/pennylane-lightning/pennylane_lightning/core/src/gates -I/content/pennylane-lightning/pennylane_lightning/core/src/utils -I/content/pennylane-lightning/pennylane_lightning/core/src/simulators/lightning_qubit/gates -I/content/pennylane-lightning/pennylane_lightning/core/src/simulators/lightning_qubit/utils -O2 -g -DNDEBUG -std=gnu++20 -fPIC -fwrapv -fno-plt -pipe -DPL_USE_OMP=1 -mavx -D_ENABLE_PLQUBIT=1 -fopenmp -MD -MT pennylane_lightning/core/src/simulators/lightning_qubit/gates/CMakeFiles/lq_gates_kernel_map.dir/AssignKernelMap_AVX512.cpp.o -MF pennylane_lightning/core/src/simulators/lightning_qubit/gates/CMakeFiles/lq_gates_kernel_map.dir/AssignKernelMap_AVX512.cpp.o.d -o pennylane_lightning/core/src/simulators/lightning_qubit/gates/CMakeFiles/lq_gates_kernel_map.dir/AssignKernelMap_AVX512.cpp.o -c /content/pennylane-lightning/pennylane_lightning/core/src/simulators/lightning_qubit/gates/AssignKernelMap_AVX512.cpp\n",
            "    [6/25] /usr/bin/c++  -I/content/pennylane-lightning/pennylane_lightning/core/src/simulators/lightning_qubit/utils -I/content/pennylane-lightning/pennylane_lightning/core/src/utils -I/content/pennylane-lightning/pennylane_lightning/core/src/algorithms -I/content/pennylane-lightning/pennylane_lightning/core/src/observables -I/content/pennylane-lightning/pennylane_lightning/core/src/simulators/lightning_qubit -I/content/pennylane-lightning/pennylane_lightning/core/src/simulators/base -I/content/pennylane-lightning/pennylane_lightning/core/src/gates -I/content/pennylane-lightning/pennylane_lightning/core/src/simulators/lightning_qubit/gates -O2 -g -DNDEBUG -std=gnu++20 -fwrapv -fno-plt -pipe -DPL_USE_OMP=1 -mavx -D_ENABLE_PLQUBIT=1 -fopenmp -MD -MT pennylane_lightning/core/src/simulators/lightning_qubit/algorithms/CMakeFiles/lightning_qubit_algorithms.dir/AlgorithmsLQubit.cpp.o -MF pennylane_lightning/core/src/simulators/lightning_qubit/algorithms/CMakeFiles/lightning_qubit_algorithms.dir/AlgorithmsLQubit.cpp.o.d -o pennylane_lightning/core/src/simulators/lightning_qubit/algorithms/CMakeFiles/lightning_qubit_algorithms.dir/AlgorithmsLQubit.cpp.o -c /content/pennylane-lightning/pennylane_lightning/core/src/simulators/lightning_qubit/algorithms/AlgorithmsLQubit.cpp\n",
            "    [7/25] /usr/bin/c++  -I/content/pennylane-lightning/pennylane_lightning/core/src/gates -I/content/pennylane-lightning/pennylane_lightning/core/src/utils -I/content/pennylane-lightning/pennylane_lightning/core/src/simulators/lightning_qubit/gates -I/content/pennylane-lightning/pennylane_lightning/core/src/simulators/lightning_qubit/utils -O2 -g -DNDEBUG -std=gnu++20 -fPIC -fwrapv -fno-plt -pipe -DPL_USE_OMP=1 -mavx -D_ENABLE_PLQUBIT=1 -fopenmp -MD -MT pennylane_lightning/core/src/simulators/lightning_qubit/gates/CMakeFiles/lq_gates_kernel_map.dir/AssignKernelMap_Default.cpp.o -MF pennylane_lightning/core/src/simulators/lightning_qubit/gates/CMakeFiles/lq_gates_kernel_map.dir/AssignKernelMap_Default.cpp.o.d -o pennylane_lightning/core/src/simulators/lightning_qubit/gates/CMakeFiles/lq_gates_kernel_map.dir/AssignKernelMap_Default.cpp.o -c /content/pennylane-lightning/pennylane_lightning/core/src/simulators/lightning_qubit/gates/AssignKernelMap_Default.cpp\n",
            "    [8/25] /usr/bin/c++  -I/content/pennylane-lightning/pennylane_lightning/core/src/simulators/lightning_qubit/gates -I/content/pennylane-lightning/pennylane_lightning/core/src/gates -I/content/pennylane-lightning/pennylane_lightning/core/src/utils -I/content/pennylane-lightning/pennylane_lightning/core/src/simulators/lightning_qubit/utils -O2 -g -DNDEBUG -std=gnu++20 -fPIC -mavx2 -mfma -fopenmp -fwrapv -fno-plt -pipe -DPL_USE_OMP=1 -mavx -D_ENABLE_PLQUBIT=1 -MD -MT pennylane_lightning/core/src/simulators/lightning_qubit/gates/CMakeFiles/lq_gates_register_kernels_avx2.dir/RegisterKernels_AVX2.cpp.o -MF pennylane_lightning/core/src/simulators/lightning_qubit/gates/CMakeFiles/lq_gates_register_kernels_avx2.dir/RegisterKernels_AVX2.cpp.o.d -o pennylane_lightning/core/src/simulators/lightning_qubit/gates/CMakeFiles/lq_gates_register_kernels_avx2.dir/RegisterKernels_AVX2.cpp.o -c /content/pennylane-lightning/pennylane_lightning/core/src/simulators/lightning_qubit/gates/RegisterKernels_AVX2.cpp\n",
            "    [9/25] /usr/bin/c++ -DVERSION_INFO=0.34.0-dev27 -Dlightning_qubit_ops_EXPORTS -I/content/pennylane-lightning/pennylane_lightning/core/src/observables -I/content/pennylane-lightning/pennylane_lightning/core/src/utils -I/content/pennylane-lightning/pennylane_lightning/core/src/algorithms -I/content/pennylane-lightning/pennylane_lightning/core/src/simulators/lightning_qubit -I/content/pennylane-lightning/pennylane_lightning/core/src/simulators/base -I/content/pennylane-lightning/pennylane_lightning/core/src/simulators/lightning_qubit/utils -I/content/pennylane-lightning/pennylane_lightning/core/src/gates -I/content/pennylane-lightning/pennylane_lightning/core/src/simulators/lightning_qubit/gates -I/content/pennylane-lightning/pennylane_lightning/core/src/simulators/lightning_qubit/algorithms -I/content/pennylane-lightning/pennylane_lightning/core/src/simulators/lightning_qubit/observables -I/content/pennylane-lightning/pennylane_lightning/core/src/simulators/lightning_qubit/bindings -I/content/pennylane-lightning/pennylane_lightning/core/src/bindings -I/content/pennylane-lightning/pennylane_lightning/core/src/simulators/lightning_qubit/measurements -I/content/pennylane-lightning/pennylane_lightning/core/src/measurements -isystem /usr/include/python3.10 -isystem /content/pennylane-lightning/build_lightning_qubit/_deps/pybind11-src/include -O2 -g -DNDEBUG -std=gnu++20 -fPIC -fvisibility=hidden -fwrapv -fno-plt -pipe -DPL_USE_OMP=1 -mavx -D_ENABLE_PLQUBIT=1 -fopenmp -MD -MT CMakeFiles/lightning_qubit_ops.dir/pennylane_lightning/core/src/bindings/Bindings.cpp.o -MF CMakeFiles/lightning_qubit_ops.dir/pennylane_lightning/core/src/bindings/Bindings.cpp.o.d -o CMakeFiles/lightning_qubit_ops.dir/pennylane_lightning/core/src/bindings/Bindings.cpp.o -c /content/pennylane-lightning/pennylane_lightning/core/src/bindings/Bindings.cpp\n",
            "    [10/25] /usr/bin/c++  -I/content/pennylane-lightning/pennylane_lightning/core/src/simulators/lightning_qubit/gates -I/content/pennylane-lightning/pennylane_lightning/core/src/gates -I/content/pennylane-lightning/pennylane_lightning/core/src/utils -I/content/pennylane-lightning/pennylane_lightning/core/src/simulators/lightning_qubit/utils -O2 -g -DNDEBUG -std=gnu++20 -fPIC -mavx512f -fopenmp -fwrapv -fno-plt -pipe -DPL_USE_OMP=1 -mavx -D_ENABLE_PLQUBIT=1 -MD -MT pennylane_lightning/core/src/simulators/lightning_qubit/gates/CMakeFiles/lq_gates_register_kernels_avx512.dir/RegisterKernels_AVX512.cpp.o -MF pennylane_lightning/core/src/simulators/lightning_qubit/gates/CMakeFiles/lq_gates_register_kernels_avx512.dir/RegisterKernels_AVX512.cpp.o.d -o pennylane_lightning/core/src/simulators/lightning_qubit/gates/CMakeFiles/lq_gates_register_kernels_avx512.dir/RegisterKernels_AVX512.cpp.o -c /content/pennylane-lightning/pennylane_lightning/core/src/simulators/lightning_qubit/gates/RegisterKernels_AVX512.cpp\n",
            "    [11/25] /usr/bin/c++  -I/content/pennylane-lightning/pennylane_lightning/core/src/simulators/lightning_qubit/gates -I/content/pennylane-lightning/pennylane_lightning/core/src/gates -I/content/pennylane-lightning/pennylane_lightning/core/src/utils -I/content/pennylane-lightning/pennylane_lightning/core/src/simulators/lightning_qubit/utils -O2 -g -DNDEBUG -std=gnu++20 -fPIC -fopenmp -fwrapv -fno-plt -pipe -DPL_USE_OMP=1 -mavx -D_ENABLE_PLQUBIT=1 -MD -MT pennylane_lightning/core/src/simulators/lightning_qubit/gates/CMakeFiles/lq_gates_register_kernels_x64.dir/cpu_kernels/GateImplementationsPI.cpp.o -MF pennylane_lightning/core/src/simulators/lightning_qubit/gates/CMakeFiles/lq_gates_register_kernels_x64.dir/cpu_kernels/GateImplementationsPI.cpp.o.d -o pennylane_lightning/core/src/simulators/lightning_qubit/gates/CMakeFiles/lq_gates_register_kernels_x64.dir/cpu_kernels/GateImplementationsPI.cpp.o -c /content/pennylane-lightning/pennylane_lightning/core/src/simulators/lightning_qubit/gates/cpu_kernels/GateImplementationsPI.cpp\n",
            "    [12/25] /usr/bin/c++  -I/content/pennylane-lightning/pennylane_lightning/core/src/simulators/lightning_qubit/gates -I/content/pennylane-lightning/pennylane_lightning/core/src/gates -I/content/pennylane-lightning/pennylane_lightning/core/src/utils -I/content/pennylane-lightning/pennylane_lightning/core/src/simulators/lightning_qubit/utils -O2 -g -DNDEBUG -std=gnu++20 -fPIC -fopenmp -fwrapv -fno-plt -pipe -DPL_USE_OMP=1 -mavx -D_ENABLE_PLQUBIT=1 -MD -MT pennylane_lightning/core/src/simulators/lightning_qubit/gates/CMakeFiles/lq_gates_register_kernels_x64.dir/GateIndices.cpp.o -MF pennylane_lightning/core/src/simulators/lightning_qubit/gates/CMakeFiles/lq_gates_register_kernels_x64.dir/GateIndices.cpp.o.d -o pennylane_lightning/core/src/simulators/lightning_qubit/gates/CMakeFiles/lq_gates_register_kernels_x64.dir/GateIndices.cpp.o -c /content/pennylane-lightning/pennylane_lightning/core/src/simulators/lightning_qubit/gates/GateIndices.cpp\n",
            "    [13/25] /usr/bin/c++  -I/content/pennylane-lightning/pennylane_lightning/core/src/simulators/lightning_qubit/gates -I/content/pennylane-lightning/pennylane_lightning/core/src/gates -I/content/pennylane-lightning/pennylane_lightning/core/src/utils -I/content/pennylane-lightning/pennylane_lightning/core/src/simulators/lightning_qubit/utils -O2 -g -DNDEBUG -std=gnu++20 -fPIC -fopenmp -fwrapv -fno-plt -pipe -DPL_USE_OMP=1 -mavx -D_ENABLE_PLQUBIT=1 -MD -MT pennylane_lightning/core/src/simulators/lightning_qubit/gates/CMakeFiles/lq_gates_register_kernels_x64.dir/cpu_kernels/GateImplementationsLM.cpp.o -MF pennylane_lightning/core/src/simulators/lightning_qubit/gates/CMakeFiles/lq_gates_register_kernels_x64.dir/cpu_kernels/GateImplementationsLM.cpp.o.d -o pennylane_lightning/core/src/simulators/lightning_qubit/gates/CMakeFiles/lq_gates_register_kernels_x64.dir/cpu_kernels/GateImplementationsLM.cpp.o -c /content/pennylane-lightning/pennylane_lightning/core/src/simulators/lightning_qubit/gates/cpu_kernels/GateImplementationsLM.cpp\n",
            "    [14/25] /usr/bin/c++   -O2 -g -DNDEBUG -std=gnu++20 -fPIC -MD -MT pennylane_lightning/core/src/utils/CMakeFiles/lightning_utils.dir/RuntimeInfo.cpp.o -MF pennylane_lightning/core/src/utils/CMakeFiles/lightning_utils.dir/RuntimeInfo.cpp.o.d -o pennylane_lightning/core/src/utils/CMakeFiles/lightning_utils.dir/RuntimeInfo.cpp.o -c /content/pennylane-lightning/pennylane_lightning/core/src/utils/RuntimeInfo.cpp\n",
            "    [15/25] : && /usr/local/lib/python3.10/dist-packages/cmake/data/bin/cmake -E rm -f pennylane_lightning/core/src/utils/liblightning_utils.a && /usr/bin/ar qc pennylane_lightning/core/src/utils/liblightning_utils.a  pennylane_lightning/core/src/utils/CMakeFiles/lightning_utils.dir/RuntimeInfo.cpp.o && /usr/bin/ranlib pennylane_lightning/core/src/utils/liblightning_utils.a && :\n",
            "    [16/25] : && /usr/local/lib/python3.10/dist-packages/cmake/data/bin/cmake -E rm -f pennylane_lightning/core/src/simulators/lightning_qubit/gates/liblq_gates_register_kernels_avx2.a && /usr/bin/ar qc pennylane_lightning/core/src/simulators/lightning_qubit/gates/liblq_gates_register_kernels_avx2.a  pennylane_lightning/core/src/simulators/lightning_qubit/gates/CMakeFiles/lq_gates_register_kernels_avx2.dir/RegisterKernels_AVX2.cpp.o && /usr/bin/ranlib pennylane_lightning/core/src/simulators/lightning_qubit/gates/liblq_gates_register_kernels_avx2.a && :\n",
            "    [17/25] : && /usr/local/lib/python3.10/dist-packages/cmake/data/bin/cmake -E rm -f pennylane_lightning/core/src/simulators/lightning_qubit/gates/liblq_gates_register_kernels_avx512.a && /usr/bin/ar qc pennylane_lightning/core/src/simulators/lightning_qubit/gates/liblq_gates_register_kernels_avx512.a  pennylane_lightning/core/src/simulators/lightning_qubit/gates/CMakeFiles/lq_gates_register_kernels_avx512.dir/RegisterKernels_AVX512.cpp.o && /usr/bin/ranlib pennylane_lightning/core/src/simulators/lightning_qubit/gates/liblq_gates_register_kernels_avx512.a && :\n",
            "    [18/25] /usr/bin/c++  -I/content/pennylane-lightning/pennylane_lightning/core/src/utils -I/content/pennylane-lightning/pennylane_lightning/core/src/simulators/lightning_qubit/utils -I/content/pennylane-lightning/pennylane_lightning/core/src/simulators/lightning_qubit/gates -I/content/pennylane-lightning/pennylane_lightning/core/src/gates -I/content/pennylane-lightning/pennylane_lightning/core/src/observables -I/content/pennylane-lightning/pennylane_lightning/core/src/simulators/lightning_qubit -I/content/pennylane-lightning/pennylane_lightning/core/src/simulators/base -O2 -g -DNDEBUG -std=gnu++20 -fPIC -fwrapv -fno-plt -pipe -DPL_USE_OMP=1 -mavx -D_ENABLE_PLQUBIT=1 -fopenmp -MD -MT pennylane_lightning/core/src/simulators/lightning_qubit/observables/CMakeFiles/lightning_qubit_observables.dir/ObservablesLQubit.cpp.o -MF pennylane_lightning/core/src/simulators/lightning_qubit/observables/CMakeFiles/lightning_qubit_observables.dir/ObservablesLQubit.cpp.o.d -o pennylane_lightning/core/src/simulators/lightning_qubit/observables/CMakeFiles/lightning_qubit_observables.dir/ObservablesLQubit.cpp.o -c /content/pennylane-lightning/pennylane_lightning/core/src/simulators/lightning_qubit/observables/ObservablesLQubit.cpp\n",
            "    [19/25] /usr/bin/c++  -I/content/pennylane-lightning/pennylane_lightning/core/src/simulators/lightning_qubit/gates -I/content/pennylane-lightning/pennylane_lightning/core/src/gates -I/content/pennylane-lightning/pennylane_lightning/core/src/utils -I/content/pennylane-lightning/pennylane_lightning/core/src/simulators/lightning_qubit/utils -O2 -g -DNDEBUG -std=gnu++20 -fPIC -fopenmp -fwrapv -fno-plt -pipe -DPL_USE_OMP=1 -mavx -D_ENABLE_PLQUBIT=1 -MD -MT pennylane_lightning/core/src/simulators/lightning_qubit/gates/CMakeFiles/lq_gates_register_kernels_x64.dir/RegisterKernels_x64.cpp.o -MF pennylane_lightning/core/src/simulators/lightning_qubit/gates/CMakeFiles/lq_gates_register_kernels_x64.dir/RegisterKernels_x64.cpp.o.d -o pennylane_lightning/core/src/simulators/lightning_qubit/gates/CMakeFiles/lq_gates_register_kernels_x64.dir/RegisterKernels_x64.cpp.o -c /content/pennylane-lightning/pennylane_lightning/core/src/simulators/lightning_qubit/gates/RegisterKernels_x64.cpp\n",
            "    [20/25] : && /usr/local/lib/python3.10/dist-packages/cmake/data/bin/cmake -E rm -f pennylane_lightning/core/src/simulators/lightning_qubit/gates/liblq_gates_register_kernels_x64.a && /usr/bin/ar qc pennylane_lightning/core/src/simulators/lightning_qubit/gates/liblq_gates_register_kernels_x64.a  pennylane_lightning/core/src/simulators/lightning_qubit/gates/CMakeFiles/lq_gates_register_kernels_x64.dir/RegisterKernels_x64.cpp.o pennylane_lightning/core/src/simulators/lightning_qubit/gates/CMakeFiles/lq_gates_register_kernels_x64.dir/cpu_kernels/GateImplementationsLM.cpp.o pennylane_lightning/core/src/simulators/lightning_qubit/gates/CMakeFiles/lq_gates_register_kernels_x64.dir/cpu_kernels/GateImplementationsPI.cpp.o pennylane_lightning/core/src/simulators/lightning_qubit/gates/CMakeFiles/lq_gates_register_kernels_x64.dir/GateIndices.cpp.o && /usr/bin/ranlib pennylane_lightning/core/src/simulators/lightning_qubit/gates/liblq_gates_register_kernels_x64.a && :\n",
            "    [21/25] : && /usr/local/lib/python3.10/dist-packages/cmake/data/bin/cmake -E rm -f pennylane_lightning/core/src/simulators/lightning_qubit/gates/liblq_gates_kernel_map.a && /usr/bin/ar qc pennylane_lightning/core/src/simulators/lightning_qubit/gates/liblq_gates_kernel_map.a  pennylane_lightning/core/src/simulators/lightning_qubit/gates/CMakeFiles/lq_gates_kernel_map.dir/KernelMap_X64.cpp.o pennylane_lightning/core/src/simulators/lightning_qubit/gates/CMakeFiles/lq_gates_kernel_map.dir/AssignKernelMap_AVX2.cpp.o pennylane_lightning/core/src/simulators/lightning_qubit/gates/CMakeFiles/lq_gates_kernel_map.dir/AssignKernelMap_AVX512.cpp.o pennylane_lightning/core/src/simulators/lightning_qubit/gates/CMakeFiles/lq_gates_kernel_map.dir/AssignKernelMap_Default.cpp.o && /usr/bin/ranlib pennylane_lightning/core/src/simulators/lightning_qubit/gates/liblq_gates_kernel_map.a && :\n",
            "    [22/25] : && /usr/local/lib/python3.10/dist-packages/cmake/data/bin/cmake -E rm -f pennylane_lightning/core/src/simulators/lightning_qubit/liblightning_qubit.a && /usr/bin/ar qc pennylane_lightning/core/src/simulators/lightning_qubit/liblightning_qubit.a  pennylane_lightning/core/src/simulators/lightning_qubit/CMakeFiles/lightning_qubit.dir/StateVectorLQubitManaged.cpp.o pennylane_lightning/core/src/simulators/lightning_qubit/CMakeFiles/lightning_qubit.dir/StateVectorLQubitRaw.cpp.o && /usr/bin/ranlib pennylane_lightning/core/src/simulators/lightning_qubit/liblightning_qubit.a && :\n",
            "    [23/25] : && /usr/local/lib/python3.10/dist-packages/cmake/data/bin/cmake -E rm -f pennylane_lightning/core/src/simulators/lightning_qubit/algorithms/liblightning_qubit_algorithms.a && /usr/bin/ar qc pennylane_lightning/core/src/simulators/lightning_qubit/algorithms/liblightning_qubit_algorithms.a  pennylane_lightning/core/src/simulators/lightning_qubit/algorithms/CMakeFiles/lightning_qubit_algorithms.dir/AlgorithmsLQubit.cpp.o && /usr/bin/ranlib pennylane_lightning/core/src/simulators/lightning_qubit/algorithms/liblightning_qubit_algorithms.a && :\n",
            "    [24/25] : && /usr/local/lib/python3.10/dist-packages/cmake/data/bin/cmake -E rm -f pennylane_lightning/core/src/simulators/lightning_qubit/observables/liblightning_qubit_observables.a && /usr/bin/ar qc pennylane_lightning/core/src/simulators/lightning_qubit/observables/liblightning_qubit_observables.a  pennylane_lightning/core/src/simulators/lightning_qubit/observables/CMakeFiles/lightning_qubit_observables.dir/ObservablesLQubit.cpp.o && /usr/bin/ranlib pennylane_lightning/core/src/simulators/lightning_qubit/observables/liblightning_qubit_observables.a && :\n",
            "    [25/25] : && /usr/bin/c++ -fPIC -O2 -g -DNDEBUG   -shared  -o /content/pennylane-lightning/build/lib.linux-x86_64-cpython-310/pennylane_lightning/lightning_qubit_ops.cpython-310-x86_64-linux-gnu.so CMakeFiles/lightning_qubit_ops.dir/pennylane_lightning/core/src/bindings/Bindings.cpp.o  pennylane_lightning/core/src/utils/liblightning_utils.a  pennylane_lightning/core/src/simulators/lightning_qubit/liblightning_qubit.a  pennylane_lightning/core/src/simulators/lightning_qubit/algorithms/liblightning_qubit_algorithms.a  pennylane_lightning/core/src/simulators/lightning_qubit/observables/liblightning_qubit_observables.a  pennylane_lightning/core/src/simulators/lightning_qubit/liblightning_qubit.a  pennylane_lightning/core/src/simulators/lightning_qubit/gates/liblq_gates_kernel_map.a  pennylane_lightning/core/src/simulators/lightning_qubit/gates/liblq_gates_kernel_map.a  pennylane_lightning/core/src/simulators/lightning_qubit/gates/liblq_gates_register_kernels_x64.a  pennylane_lightning/core/src/simulators/lightning_qubit/gates/liblq_gates_register_kernels_avx2.a  pennylane_lightning/core/src/simulators/lightning_qubit/gates/liblq_gates_register_kernels_avx512.a  pennylane_lightning/core/src/utils/liblightning_utils.a  /usr/lib/gcc/x86_64-linux-gnu/11/libgomp.so  /usr/lib/x86_64-linux-gnu/libpthread.a && :\n",
            "\n",
            "    copying build/lib.linux-x86_64-cpython-310/pennylane_lightning/lightning_qubit_ops.cpython-310-x86_64-linux-gnu.so -> pennylane_lightning\n",
            "    Creating /usr/local/lib/python3.10/dist-packages/PennyLane-Lightning.egg-link (link to .)\n",
            "    Adding PennyLane-Lightning 0.34.0.dev27 to easy-install.pth file\n",
            "\n",
            "    Installed /content/pennylane-lightning\n",
            "Successfully installed PennyLane-Lightning-0.34.0.dev27\n",
            "Removed build tracker: '/tmp/pip-build-tracker-p4tu1ixn'\n"
          ]
        }
      ]
    },
    {
      "cell_type": "code",
      "source": [
        "!python -m pip install wheel custatevec-cu11"
      ],
      "metadata": {
        "id": "kle7Grjpoq9e",
        "colab": {
          "base_uri": "https://localhost:8080/"
        },
        "outputId": "7b3ed8f6-64f4-4281-e6be-f4d56405a4e4"
      },
      "execution_count": null,
      "outputs": [
        {
          "output_type": "stream",
          "name": "stdout",
          "text": [
            "Requirement already satisfied: wheel in /usr/local/lib/python3.10/dist-packages (0.42.0)\n",
            "Collecting custatevec-cu11\n",
            "  Downloading custatevec_cu11-1.5.0-py3-none-manylinux2014_x86_64.whl (38.9 MB)\n",
            "\u001b[2K     \u001b[90m━━━━━━━━━━━━━━━━━━━━━━━━━━━━━━━━━━━━━━━━\u001b[0m \u001b[32m38.9/38.9 MB\u001b[0m \u001b[31m23.0 MB/s\u001b[0m eta \u001b[36m0:00:00\u001b[0m\n",
            "\u001b[?25hInstalling collected packages: custatevec-cu11\n",
            "Successfully installed custatevec-cu11-1.5.0\n"
          ]
        }
      ]
    },
    {
      "cell_type": "code",
      "source": [
        "import os\n",
        "import site\n",
        "os.environ[\"CUQUANTUM_SDK\"] = f'{site.getsitepackages()[0]}/cuquantum/lib'"
      ],
      "metadata": {
        "id": "XQ4rdOoUo0Ay"
      },
      "execution_count": null,
      "outputs": []
    },
    {
      "cell_type": "code",
      "source": [
        "!PL_BACKEND=\"lightning_gpu\" python -m pip install -e . -vv"
      ],
      "metadata": {
        "id": "722FyHg9o5Ph",
        "colab": {
          "base_uri": "https://localhost:8080/"
        },
        "outputId": "8fe5a161-95b6-45af-9d21-18faa4914960"
      },
      "execution_count": null,
      "outputs": [
        {
          "output_type": "stream",
          "name": "stdout",
          "text": [
            "Using pip 23.1.2 from /usr/local/lib/python3.10/dist-packages/pip (python 3.10)\n",
            "Non-user install because site-packages writeable\n",
            "Created temporary directory: /tmp/pip-build-tracker-uq4nupwr\n",
            "Initialized build tracking at /tmp/pip-build-tracker-uq4nupwr\n",
            "Created build tracker: /tmp/pip-build-tracker-uq4nupwr\n",
            "Entered build tracker: /tmp/pip-build-tracker-uq4nupwr\n",
            "Created temporary directory: /tmp/pip-install-y2_pj3zo\n",
            "Created temporary directory: /tmp/pip-ephem-wheel-cache-wy4kspvp\n",
            "Obtaining file:///content/pennylane-lightning\n",
            "  Added file:///content/pennylane-lightning to build tracker '/tmp/pip-build-tracker-uq4nupwr'\n",
            "  Running setup.py (path:/content/pennylane-lightning/setup.py) egg_info for package from file:///content/pennylane-lightning\n",
            "  Created temporary directory: /tmp/pip-pip-egg-info-_yek578a\n",
            "  Running command python setup.py egg_info\n",
            "  /usr/local/lib/python3.10/dist-packages/setuptools/dist.py:519: InformationOnly: Normalizing '0.34.0-dev27' to '0.34.0.dev27'\n",
            "    self.metadata.version = self._normalize_version(\n",
            "  running egg_info\n",
            "  creating /tmp/pip-pip-egg-info-_yek578a/PennyLane_Lightning_GPU.egg-info\n",
            "  writing /tmp/pip-pip-egg-info-_yek578a/PennyLane_Lightning_GPU.egg-info/PKG-INFO\n",
            "  writing dependency_links to /tmp/pip-pip-egg-info-_yek578a/PennyLane_Lightning_GPU.egg-info/dependency_links.txt\n",
            "  writing entry points to /tmp/pip-pip-egg-info-_yek578a/PennyLane_Lightning_GPU.egg-info/entry_points.txt\n",
            "  writing requirements to /tmp/pip-pip-egg-info-_yek578a/PennyLane_Lightning_GPU.egg-info/requires.txt\n",
            "  writing top-level names to /tmp/pip-pip-egg-info-_yek578a/PennyLane_Lightning_GPU.egg-info/top_level.txt\n",
            "  writing manifest file '/tmp/pip-pip-egg-info-_yek578a/PennyLane_Lightning_GPU.egg-info/SOURCES.txt'\n",
            "  reading manifest file '/tmp/pip-pip-egg-info-_yek578a/PennyLane_Lightning_GPU.egg-info/SOURCES.txt'\n",
            "  reading manifest template 'MANIFEST.in'\n",
            "  warning: no files found matching 'pennylane_lightning/lightning_qpu/lightning_gpu.toml'\n",
            "  adding license file 'LICENSE'\n",
            "  writing manifest file '/tmp/pip-pip-egg-info-_yek578a/PennyLane_Lightning_GPU.egg-info/SOURCES.txt'\n",
            "  Preparing metadata (setup.py) ... \u001b[?25l\u001b[?25hdone\n",
            "  Source in /content/pennylane-lightning has version 0.34.0.dev27, which satisfies requirement PennyLane-Lightning-GPU==0.34.0.dev27 from file:///content/pennylane-lightning\n",
            "  Removed PennyLane-Lightning-GPU==0.34.0.dev27 from file:///content/pennylane-lightning from build tracker '/tmp/pip-build-tracker-uq4nupwr'\n",
            "Requirement already satisfied: pennylane>=0.32 in /usr/local/lib/python3.10/dist-packages (from PennyLane-Lightning-GPU==0.34.0.dev27) (0.33.1)\n",
            "Requirement already satisfied: pennylane_lightning==0.34.0-dev27 in /content/pennylane-lightning (from PennyLane-Lightning-GPU==0.34.0.dev27) (0.34.0.dev27)\n",
            "Requirement already satisfied: numpy in /usr/local/lib/python3.10/dist-packages (from pennylane>=0.32->PennyLane-Lightning-GPU==0.34.0.dev27) (1.23.5)\n",
            "Requirement already satisfied: scipy in /usr/local/lib/python3.10/dist-packages (from pennylane>=0.32->PennyLane-Lightning-GPU==0.34.0.dev27) (1.11.4)\n",
            "Requirement already satisfied: networkx in /usr/local/lib/python3.10/dist-packages (from pennylane>=0.32->PennyLane-Lightning-GPU==0.34.0.dev27) (3.2.1)\n",
            "Requirement already satisfied: rustworkx in /usr/local/lib/python3.10/dist-packages (from pennylane>=0.32->PennyLane-Lightning-GPU==0.34.0.dev27) (0.13.2)\n",
            "Requirement already satisfied: autograd in /usr/local/lib/python3.10/dist-packages (from pennylane>=0.32->PennyLane-Lightning-GPU==0.34.0.dev27) (1.6.2)\n",
            "Requirement already satisfied: toml in /usr/local/lib/python3.10/dist-packages (from pennylane>=0.32->PennyLane-Lightning-GPU==0.34.0.dev27) (0.10.2)\n",
            "Requirement already satisfied: appdirs in /usr/local/lib/python3.10/dist-packages (from pennylane>=0.32->PennyLane-Lightning-GPU==0.34.0.dev27) (1.4.4)\n",
            "Requirement already satisfied: semantic-version>=2.7 in /usr/local/lib/python3.10/dist-packages (from pennylane>=0.32->PennyLane-Lightning-GPU==0.34.0.dev27) (2.10.0)\n",
            "Requirement already satisfied: autoray>=0.6.1 in /usr/local/lib/python3.10/dist-packages (from pennylane>=0.32->PennyLane-Lightning-GPU==0.34.0.dev27) (0.6.7)\n",
            "Requirement already satisfied: cachetools in /usr/local/lib/python3.10/dist-packages (from pennylane>=0.32->PennyLane-Lightning-GPU==0.34.0.dev27) (5.3.2)\n",
            "Requirement already satisfied: requests in /usr/local/lib/python3.10/dist-packages (from pennylane>=0.32->PennyLane-Lightning-GPU==0.34.0.dev27) (2.31.0)\n",
            "Requirement already satisfied: typing-extensions in /usr/local/lib/python3.10/dist-packages (from pennylane>=0.32->PennyLane-Lightning-GPU==0.34.0.dev27) (4.5.0)\n",
            "Requirement already satisfied: future>=0.15.2 in /usr/local/lib/python3.10/dist-packages (from autograd->pennylane>=0.32->PennyLane-Lightning-GPU==0.34.0.dev27) (0.18.3)\n",
            "Requirement already satisfied: charset-normalizer<4,>=2 in /usr/local/lib/python3.10/dist-packages (from requests->pennylane>=0.32->PennyLane-Lightning-GPU==0.34.0.dev27) (3.3.2)\n",
            "Requirement already satisfied: idna<4,>=2.5 in /usr/local/lib/python3.10/dist-packages (from requests->pennylane>=0.32->PennyLane-Lightning-GPU==0.34.0.dev27) (3.6)\n",
            "Requirement already satisfied: urllib3<3,>=1.21.1 in /usr/local/lib/python3.10/dist-packages (from requests->pennylane>=0.32->PennyLane-Lightning-GPU==0.34.0.dev27) (2.0.7)\n",
            "Requirement already satisfied: certifi>=2017.4.17 in /usr/local/lib/python3.10/dist-packages (from requests->pennylane>=0.32->PennyLane-Lightning-GPU==0.34.0.dev27) (2023.11.17)\n",
            "Created temporary directory: /tmp/pip-unpack-ccmv_nv0\n",
            "Installing collected packages: PennyLane-Lightning-GPU\n",
            "  Running setup.py develop for PennyLane-Lightning-GPU\n",
            "    Running command python setup.py develop\n",
            "    /usr/local/lib/python3.10/dist-packages/setuptools/dist.py:519: InformationOnly: Normalizing '0.34.0-dev27' to '0.34.0.dev27'\n",
            "      self.metadata.version = self._normalize_version(\n",
            "    running develop\n",
            "    /usr/local/lib/python3.10/dist-packages/setuptools/command/develop.py:40: EasyInstallDeprecationWarning: easy_install command is deprecated.\n",
            "    !!\n",
            "\n",
            "            ********************************************************************************\n",
            "            Please avoid running ``setup.py`` and ``easy_install``.\n",
            "            Instead, use pypa/build, pypa/installer, pypa/build or\n",
            "            other standards-based tools.\n",
            "\n",
            "            See https://github.com/pypa/setuptools/issues/917 for details.\n",
            "            ********************************************************************************\n",
            "\n",
            "    !!\n",
            "      easy_install.initialize_options(self)\n",
            "    /usr/local/lib/python3.10/dist-packages/setuptools/_distutils/cmd.py:66: SetuptoolsDeprecationWarning: setup.py install is deprecated.\n",
            "    !!\n",
            "\n",
            "            ********************************************************************************\n",
            "            Please avoid running ``setup.py`` directly.\n",
            "            Instead, use pypa/build, pypa/installer, pypa/build or\n",
            "            other standards-based tools.\n",
            "\n",
            "            See https://blog.ganssle.io/articles/2021/10/setup-py-deprecated.html for details.\n",
            "            ********************************************************************************\n",
            "\n",
            "    !!\n",
            "      self.initialize_options()\n",
            "    running egg_info\n",
            "    creating PennyLane_Lightning_GPU.egg-info\n",
            "    writing PennyLane_Lightning_GPU.egg-info/PKG-INFO\n",
            "    writing dependency_links to PennyLane_Lightning_GPU.egg-info/dependency_links.txt\n",
            "    writing entry points to PennyLane_Lightning_GPU.egg-info/entry_points.txt\n",
            "    writing requirements to PennyLane_Lightning_GPU.egg-info/requires.txt\n",
            "    writing top-level names to PennyLane_Lightning_GPU.egg-info/top_level.txt\n",
            "    writing manifest file 'PennyLane_Lightning_GPU.egg-info/SOURCES.txt'\n",
            "    reading manifest file 'PennyLane_Lightning_GPU.egg-info/SOURCES.txt'\n",
            "    reading manifest template 'MANIFEST.in'\n",
            "    warning: no files found matching 'pennylane_lightning/lightning_qpu/lightning_gpu.toml'\n",
            "    adding license file 'LICENSE'\n",
            "    writing manifest file 'PennyLane_Lightning_GPU.egg-info/SOURCES.txt'\n",
            "    running build_ext\n",
            "    ░█░░░▀█▀░█▀▀░█░█░▀█▀░█▀█░▀█▀░█▀█░█▀▀░\n",
            "    ░█░░░░█░░█░█░█▀█░░█░░█░█░░█░░█░█░█░█░\n",
            "    ░▀▀▀░▀▀▀░▀▀▀░▀░▀░░▀░░▀░▀░▀▀▀░▀░▀░▀▀▀░\n",
            "\n",
            "    -- The CXX compiler identification is GNU 11.4.0\n",
            "    -- Detecting CXX compiler ABI info\n",
            "    -- Detecting CXX compiler ABI info - done\n",
            "    -- Check for working CXX compiler: /usr/bin/c++ - skipped\n",
            "    -- Detecting CXX compile features\n",
            "    -- Detecting CXX compile features - done\n",
            "    -- pennylane_lightning version 0.34.0-dev27\n",
            "    -- Found OpenMP_CXX: -fopenmp (found version \"4.5\")\n",
            "    -- Found OpenMP: TRUE (found version \"4.5\")\n",
            "    -- PL_BACKEND: lightning_gpu\n",
            "    -- ENABLE_WARNINGS is OFF.\n",
            "    -- ENABLE_OPENMP is ON.\n",
            "    -- Found OpenMP_CXX: -fopenmp (found version \"4.5\")\n",
            "    -- ENABLE AVX for X64 on UNIX compatible system.\n",
            "    -- Found Python: /usr/local/bin/python (found version \"3.10.12\") found components: Interpreter Development Development.Module Development.Embed\n",
            "    -- pybind11 v2.11.1\n",
            "    -- Performing Test HAS_FLTO\n",
            "    -- Performing Test HAS_FLTO - Success\n",
            "    -- The C compiler identification is GNU 11.4.0\n",
            "    -- Detecting C compiler ABI info\n",
            "    -- Detecting C compiler ABI info - done\n",
            "    -- Check for working C compiler: /usr/bin/cc - skipped\n",
            "    -- Detecting C compile features\n",
            "    -- Detecting C compile features - done\n",
            "    ░█░░░▀█▀░█▀▀░█░█░▀█▀░█▀█░▀█▀░█▀█░█▀▀░░░░█▀▀░█▀█░█░█\n",
            "    ░█░░░░█░░█░█░█▀█░░█░░█░█░░█░░█░█░█░█░░░░█░█░█▀▀░█░█\n",
            "    ░▀▀▀░▀▀▀░▀▀▀░▀░▀░░▀░░▀░▀░▀▀▀░▀░▀░▀▀▀░▀░░▀▀▀░▀░░░▀▀▀\n",
            "\n",
            "    -- The CUDA compiler identification is NVIDIA 12.2.140\n",
            "    -- Detecting CUDA compiler ABI info\n",
            "    -- Detecting CUDA compiler ABI info - done\n",
            "    -- Check for working CUDA compiler: /usr/local/cuda/bin/nvcc - skipped\n",
            "    -- Detecting CUDA compile features\n",
            "    -- Detecting CUDA compile features - done\n",
            "    CMake Warning (dev) at cmake/support_pllgpu.cmake:10 (find_package):\n",
            "      Policy CMP0146 is not set: The FindCUDA module is removed.  Run \"cmake\n",
            "      --help-policy CMP0146\" for policy details.  Use the cmake_policy command to\n",
            "      set the policy and suppress this warning.\n",
            "\n",
            "    Call Stack (most recent call first):\n",
            "      pennylane_lightning/core/src/simulators/lightning_gpu/CMakeLists.txt:16 (findCUDA)\n",
            "    This warning is for project developers.  Use -Wno-dev to suppress it.\n",
            "\n",
            "    -- Performing Test CMAKE_HAVE_LIBC_PTHREAD\n",
            "    -- Performing Test CMAKE_HAVE_LIBC_PTHREAD - Success\n",
            "    -- Found Threads: TRUE\n",
            "    -- Found CUDA: /usr/local/cuda (found version \"12.2\")\n",
            "    -- Found CUDAToolkit: /usr/local/cuda/include (found version \"12.2.140\")\n",
            "    -- ENABLE_PYTHON is ON.\n",
            "    -- Configuring done (9.0s)\n",
            "    -- Generating done (0.0s)\n",
            "    CMake Warning:\n",
            "      Manually-specified variables were not used by the project:\n",
            "\n",
            "        PYTHON_EXECUTABLE\n",
            "\n",
            "\n",
            "    -- Build files have been written to: /content/pennylane-lightning/build_lightning_gpu\n",
            "    Change Dir: '/content/pennylane-lightning/build_lightning_gpu'\n",
            "\n",
            "    Run Build Command(s): /usr/local/bin/ninja -v\n",
            "    [1/11] /usr/local/cuda/bin/nvcc -forward-unknown-to-host-compiler  -I/content/pennylane-lightning/pennylane_lightning/core/src/simulators/lightning_gpu -I/content/pennylane-lightning/pennylane_lightning/core/src/simulators/base -I/content/pennylane-lightning/pennylane_lightning/core/src/gates -I/content/pennylane-lightning/pennylane_lightning/core/src/utils -I/content/pennylane-lightning/pennylane_lightning/core/src/simulators/lightning_gpu/utils -I/content/pennylane-lightning/pennylane_lightning/core/src/simulators/lightning_gpu/gates -isystem /usr/local/cuda/include -isystem /usr/local/lib/python3.10/dist-packages/cuquantum/include -O2 -g -DNDEBUG -std=c++20 \"--generate-code=arch=compute_52,code=[compute_52,sm_52]\" -Xcompiler=-fPIC -DPL_USE_OMP=1 -mavx -D_ENABLE_PLGPU=1 -MD -MT pennylane_lightning/core/src/simulators/lightning_gpu/CMakeFiles/lightning_gpu.dir/initSV.cu.o -MF pennylane_lightning/core/src/simulators/lightning_gpu/CMakeFiles/lightning_gpu.dir/initSV.cu.o.d -x cu -c /content/pennylane-lightning/pennylane_lightning/core/src/simulators/lightning_gpu/initSV.cu -o pennylane_lightning/core/src/simulators/lightning_gpu/CMakeFiles/lightning_gpu.dir/initSV.cu.o\n",
            "    [2/11] /usr/bin/c++  -I/content/pennylane-lightning/pennylane_lightning/core/src/simulators/lightning_gpu -I/content/pennylane-lightning/pennylane_lightning/core/src/simulators/base -I/content/pennylane-lightning/pennylane_lightning/core/src/gates -I/content/pennylane-lightning/pennylane_lightning/core/src/utils -I/content/pennylane-lightning/pennylane_lightning/core/src/simulators/lightning_gpu/utils -I/content/pennylane-lightning/pennylane_lightning/core/src/simulators/lightning_gpu/gates -isystem /usr/local/cuda/include -isystem /usr/local/lib/python3.10/dist-packages/cuquantum/include -O2 -g -DNDEBUG -std=gnu++20 -fPIC -fwrapv -fno-plt -pipe -DPL_USE_OMP=1 -mavx -D_ENABLE_PLGPU=1 -fopenmp -MD -MT pennylane_lightning/core/src/simulators/lightning_gpu/CMakeFiles/lightning_gpu.dir/StateVectorCudaManaged.cpp.o -MF pennylane_lightning/core/src/simulators/lightning_gpu/CMakeFiles/lightning_gpu.dir/StateVectorCudaManaged.cpp.o.d -o pennylane_lightning/core/src/simulators/lightning_gpu/CMakeFiles/lightning_gpu.dir/StateVectorCudaManaged.cpp.o -c /content/pennylane-lightning/pennylane_lightning/core/src/simulators/lightning_gpu/StateVectorCudaManaged.cpp\n",
            "    [3/11] /usr/bin/c++  -I/content/pennylane-lightning/pennylane_lightning/core/src/simulators/lightning_gpu/utils -I/content/pennylane-lightning/pennylane_lightning/core/src/algorithms -I/content/pennylane-lightning/pennylane_lightning/core/src/utils -I/content/pennylane-lightning/pennylane_lightning/core/src/observables -I/content/pennylane-lightning/pennylane_lightning/core/src/simulators/lightning_gpu -I/content/pennylane-lightning/pennylane_lightning/core/src/simulators/base -I/content/pennylane-lightning/pennylane_lightning/core/src/gates -I/content/pennylane-lightning/pennylane_lightning/core/src/simulators/lightning_gpu/gates -I/content/pennylane-lightning/pennylane_lightning/core/src/simulators/lightning_gpu/observables -isystem /usr/local/cuda/include -isystem /usr/local/lib/python3.10/dist-packages/cuquantum/include -O2 -g -DNDEBUG -std=c++20 -fPIC -fwrapv -fno-plt -pipe -DPL_USE_OMP=1 -mavx -D_ENABLE_PLGPU=1 -fopenmp -MD -MT pennylane_lightning/core/src/simulators/lightning_gpu/algorithms/CMakeFiles/lightning_gpu_algorithms.dir/AlgorithmsGPU.cpp.o -MF pennylane_lightning/core/src/simulators/lightning_gpu/algorithms/CMakeFiles/lightning_gpu_algorithms.dir/AlgorithmsGPU.cpp.o.d -o pennylane_lightning/core/src/simulators/lightning_gpu/algorithms/CMakeFiles/lightning_gpu_algorithms.dir/AlgorithmsGPU.cpp.o -c /content/pennylane-lightning/pennylane_lightning/core/src/simulators/lightning_gpu/algorithms/AlgorithmsGPU.cpp\n",
            "    [4/11] /usr/bin/c++   -O2 -g -DNDEBUG -std=gnu++20 -fPIC -MD -MT pennylane_lightning/core/src/utils/CMakeFiles/lightning_utils.dir/RuntimeInfo.cpp.o -MF pennylane_lightning/core/src/utils/CMakeFiles/lightning_utils.dir/RuntimeInfo.cpp.o.d -o pennylane_lightning/core/src/utils/CMakeFiles/lightning_utils.dir/RuntimeInfo.cpp.o -c /content/pennylane-lightning/pennylane_lightning/core/src/utils/RuntimeInfo.cpp\n",
            "    [5/11] : && /usr/local/lib/python3.10/dist-packages/cmake/data/bin/cmake -E rm -f pennylane_lightning/core/src/utils/liblightning_utils.a && /usr/bin/ar qc pennylane_lightning/core/src/utils/liblightning_utils.a  pennylane_lightning/core/src/utils/CMakeFiles/lightning_utils.dir/RuntimeInfo.cpp.o && /usr/bin/ranlib pennylane_lightning/core/src/utils/liblightning_utils.a && :\n",
            "    [6/11] : && /usr/local/lib/python3.10/dist-packages/cmake/data/bin/cmake -E rm -f pennylane_lightning/core/src/simulators/lightning_gpu/liblightning_gpu.a && /usr/bin/ar qc pennylane_lightning/core/src/simulators/lightning_gpu/liblightning_gpu.a  pennylane_lightning/core/src/simulators/lightning_gpu/CMakeFiles/lightning_gpu.dir/StateVectorCudaManaged.cpp.o pennylane_lightning/core/src/simulators/lightning_gpu/CMakeFiles/lightning_gpu.dir/initSV.cu.o && /usr/bin/ranlib pennylane_lightning/core/src/simulators/lightning_gpu/liblightning_gpu.a && :\n",
            "    [7/11] /usr/bin/c++  -I/content/pennylane-lightning/pennylane_lightning/core/src/utils -I/content/pennylane-lightning/pennylane_lightning/core/src/gates -I/content/pennylane-lightning/pennylane_lightning/core/src/observables -I/content/pennylane-lightning/pennylane_lightning/core/src/simulators/lightning_gpu/utils -I/content/pennylane-lightning/pennylane_lightning/core/src/simulators/lightning_gpu/gates -I/content/pennylane-lightning/pennylane_lightning/core/src/simulators/lightning_gpu -I/content/pennylane-lightning/pennylane_lightning/core/src/simulators/base -isystem /usr/local/cuda/include -isystem /usr/local/lib/python3.10/dist-packages/cuquantum/include -O2 -g -DNDEBUG -std=c++20 -fPIC -fwrapv -fno-plt -pipe -DPL_USE_OMP=1 -mavx -D_ENABLE_PLGPU=1 -fopenmp -MD -MT pennylane_lightning/core/src/simulators/lightning_gpu/observables/CMakeFiles/lightning_gpu_observables.dir/ObservablesGPU.cpp.o -MF pennylane_lightning/core/src/simulators/lightning_gpu/observables/CMakeFiles/lightning_gpu_observables.dir/ObservablesGPU.cpp.o.d -o pennylane_lightning/core/src/simulators/lightning_gpu/observables/CMakeFiles/lightning_gpu_observables.dir/ObservablesGPU.cpp.o -c /content/pennylane-lightning/pennylane_lightning/core/src/simulators/lightning_gpu/observables/ObservablesGPU.cpp\n",
            "    [8/11] : && /usr/local/lib/python3.10/dist-packages/cmake/data/bin/cmake -E rm -f pennylane_lightning/core/src/simulators/lightning_gpu/observables/liblightning_gpu_observables.a && /usr/bin/ar qc pennylane_lightning/core/src/simulators/lightning_gpu/observables/liblightning_gpu_observables.a  pennylane_lightning/core/src/simulators/lightning_gpu/observables/CMakeFiles/lightning_gpu_observables.dir/ObservablesGPU.cpp.o && /usr/bin/ranlib pennylane_lightning/core/src/simulators/lightning_gpu/observables/liblightning_gpu_observables.a && :\n",
            "    [9/11] : && /usr/local/lib/python3.10/dist-packages/cmake/data/bin/cmake -E rm -f pennylane_lightning/core/src/simulators/lightning_gpu/algorithms/liblightning_gpu_algorithms.a && /usr/bin/ar qc pennylane_lightning/core/src/simulators/lightning_gpu/algorithms/liblightning_gpu_algorithms.a  pennylane_lightning/core/src/simulators/lightning_gpu/algorithms/CMakeFiles/lightning_gpu_algorithms.dir/AlgorithmsGPU.cpp.o && /usr/bin/ranlib pennylane_lightning/core/src/simulators/lightning_gpu/algorithms/liblightning_gpu_algorithms.a && :\n",
            "    [10/11] /usr/bin/c++ -DVERSION_INFO=0.34.0-dev27 -Dlightning_gpu_ops_EXPORTS -I/content/pennylane-lightning/pennylane_lightning/core/src/observables -I/content/pennylane-lightning/pennylane_lightning/core/src/utils -I/content/pennylane-lightning/pennylane_lightning/core/src/algorithms -I/content/pennylane-lightning/pennylane_lightning/core/src/simulators/lightning_gpu -I/content/pennylane-lightning/pennylane_lightning/core/src/simulators/base -I/content/pennylane-lightning/pennylane_lightning/core/src/gates -I/content/pennylane-lightning/pennylane_lightning/core/src/simulators/lightning_gpu/utils -I/content/pennylane-lightning/pennylane_lightning/core/src/simulators/lightning_gpu/gates -I/content/pennylane-lightning/pennylane_lightning/core/src/simulators/lightning_gpu/algorithms -I/content/pennylane-lightning/pennylane_lightning/core/src/simulators/lightning_gpu/observables -I/content/pennylane-lightning/pennylane_lightning/core/src/simulators/lightning_gpu/bindings -I/content/pennylane-lightning/pennylane_lightning/core/src/bindings -I/content/pennylane-lightning/pennylane_lightning/core/src/simulators/lightning_gpu/measurements -I/content/pennylane-lightning/pennylane_lightning/core/src/measurements -isystem /usr/include/python3.10 -isystem /content/pennylane-lightning/build_lightning_gpu/_deps/pybind11-src/include -isystem /usr/local/cuda/include -isystem /usr/local/lib/python3.10/dist-packages/cuquantum/include -O2 -g -DNDEBUG -std=gnu++20 -fPIC -fvisibility=hidden -fwrapv -fno-plt -pipe -DPL_USE_OMP=1 -mavx -D_ENABLE_PLGPU=1 -fopenmp -MD -MT CMakeFiles/lightning_gpu_ops.dir/pennylane_lightning/core/src/bindings/Bindings.cpp.o -MF CMakeFiles/lightning_gpu_ops.dir/pennylane_lightning/core/src/bindings/Bindings.cpp.o.d -o CMakeFiles/lightning_gpu_ops.dir/pennylane_lightning/core/src/bindings/Bindings.cpp.o -c /content/pennylane-lightning/pennylane_lightning/core/src/bindings/Bindings.cpp\n",
            "    [11/11] : && /usr/bin/c++ -fPIC -O2 -g -DNDEBUG   -shared  -o /content/pennylane-lightning/build/lib.linux-x86_64-cpython-310/pennylane_lightning/lightning_gpu_ops.cpython-310-x86_64-linux-gnu.so CMakeFiles/lightning_gpu_ops.dir/pennylane_lightning/core/src/bindings/Bindings.cpp.o  -Wl,-rpath,\"\\$ORIGIN/../cuquantum/lib:\\$ORIGIN/../nvidia/cuda_runtime/lib:\\$ORIGIN/../nvidia/cublas/lib:\\$ORIGIN/../nvidia/cusparse/lib:\\$ORIGIN:/usr/local/cuda/lib64:/usr/local/cuda-12.2/targets/x86_64-linux/lib:/usr/local/lib/python3.10/dist-packages/cuquantum/lib\"  pennylane_lightning/core/src/utils/liblightning_utils.a  pennylane_lightning/core/src/simulators/lightning_gpu/liblightning_gpu.a  pennylane_lightning/core/src/simulators/lightning_gpu/algorithms/liblightning_gpu_algorithms.a  pennylane_lightning/core/src/simulators/lightning_gpu/observables/liblightning_gpu_observables.a  pennylane_lightning/core/src/simulators/lightning_gpu/observables/liblightning_gpu_observables.a  pennylane_lightning/core/src/simulators/lightning_gpu/liblightning_gpu.a  /usr/local/cuda/lib64/libcublas.so  /usr/local/cuda-12.2/targets/x86_64-linux/lib/libcublasLt.so  /usr/local/cuda-12.2/targets/x86_64-linux/lib/libculibos.a  /usr/local/cuda/lib64/libcusparse.so  /usr/local/cuda-12.2/targets/x86_64-linux/lib/libnvJitLink.so  pennylane_lightning/core/src/utils/liblightning_utils.a  /usr/lib/gcc/x86_64-linux-gnu/11/libgomp.so  /usr/lib/x86_64-linux-gnu/libpthread.a  /usr/local/cuda-12.2/targets/x86_64-linux/lib/libcudart.so  /usr/local/lib/python3.10/dist-packages/cuquantum/lib/libcustatevec.so.1 && :\n",
            "\n",
            "    copying build/lib.linux-x86_64-cpython-310/pennylane_lightning/lightning_gpu_ops.cpython-310-x86_64-linux-gnu.so -> pennylane_lightning\n",
            "    Creating /usr/local/lib/python3.10/dist-packages/PennyLane-Lightning-GPU.egg-link (link to .)\n",
            "    PennyLane-Lightning-GPU 0.34.0.dev27 is already the active version in easy-install.pth\n",
            "\n",
            "    Installed /content/pennylane-lightning\n",
            "Successfully installed PennyLane-Lightning-GPU-0.34.0.dev27\n",
            "Removed build tracker: '/tmp/pip-build-tracker-uq4nupwr'\n"
          ]
        }
      ]
    },
    {
      "cell_type": "code",
      "source": [
        "import numpy as np\n",
        "import matplotlib.pyplot as plt\n",
        "\n",
        "import torch\n",
        "from torch.autograd import Function\n",
        "from torchvision import datasets, transforms\n",
        "import torch.optim as optim\n",
        "from torch.optim import lr_scheduler\n",
        "import torch.nn as nn\n",
        "import torch.nn.functional as F\n",
        "\n",
        "import pennylane as qml\n",
        "from pennylane import numpy as np\n",
        "\n",
        "use_cuda = torch.cuda.is_available()\n",
        "device = torch.device(\"cuda\" if use_cuda else \"cpu\")"
      ],
      "metadata": {
        "id": "BCIQ5gKipCpb"
      },
      "execution_count": null,
      "outputs": []
    },
    {
      "cell_type": "markdown",
      "source": [
        "Note that here we make use of the \"lightning.gpu\" device in order to have the pennylane code access the GPU.  Also a couple of lines to test that it's actually doing what's expected."
      ],
      "metadata": {
        "id": "wAs4SutCfM3T"
      }
    },
    {
      "cell_type": "code",
      "source": [
        "n_qubits = 4\n",
        "if use_cuda is True:\n",
        "    dev = qml.device(\"lightning.gpu\", wires=n_qubits)\n",
        "else:\n",
        "    dev = qml.device(\"default.qubit\", wires=n_qubits)\n",
        "\n",
        "@qml.qnode(dev)\n",
        "def circuit(inputs, weights):\n",
        "    qml.AngleEmbedding(inputs, wires=range(n_qubits))\n",
        "    qml.BasicEntanglerLayers(weights, wires=range(n_qubits))\n",
        "    return [qml.expval(qml.PauliZ(wires=i)) for i in range(n_qubits)]\n",
        "\n",
        "print(f\"{dev=}\")\n",
        "\n",
        "input = torch.from_numpy(np.random.uniform(0, np.pi, (4,))).to(device)\n",
        "weights = torch.from_numpy(np.random.uniform(0, np.pi, (4, 4))).to(device)\n",
        "output = circuit(input, weights)\n",
        "print(f\"{output=}\")"
      ],
      "metadata": {
        "colab": {
          "base_uri": "https://localhost:8080/"
        },
        "id": "lZ0ULZQo4iJp",
        "outputId": "20bed0df-18f2-40c4-a67a-2146e3d3d8b6"
      },
      "execution_count": null,
      "outputs": [
        {
          "output_type": "stream",
          "name": "stdout",
          "text": [
            "dev=<LightningGPU device (wires=4, shots=None) at 0x799548aafd30>\n",
            "output=[tensor(-0.0576, dtype=torch.float64), tensor(-0.1647, dtype=torch.float64), tensor(0.2733, dtype=torch.float64), tensor(0.0643, dtype=torch.float64)]\n"
          ]
        }
      ]
    },
    {
      "cell_type": "markdown",
      "source": [
        "### Load MNIST Dataset\n",
        "\n",
        "Note that the images are resized to 14x14 here."
      ],
      "metadata": {
        "id": "h32E5m9VhrIY"
      }
    },
    {
      "cell_type": "code",
      "source": [
        "# Loading of the MNIST dataset\n",
        "transformations = transforms.Compose(\n",
        "    [transforms.Resize(14),\n",
        "     transforms.ToTensor()]\n",
        ")\n",
        "train_data = datasets.MNIST(\n",
        "    root = 'data',\n",
        "    train = True,\n",
        "    transform = transformations,\n",
        "    download = True,\n",
        ")\n",
        "test_data = datasets.MNIST(\n",
        "    root = 'data',\n",
        "    train = False,\n",
        "    transform = transformations\n",
        ")"
      ],
      "metadata": {
        "colab": {
          "base_uri": "https://localhost:8080/"
        },
        "id": "1y7-OA6WOQj_",
        "outputId": "0ba5a866-60dc-4b83-c3fd-3d3bc239cd87"
      },
      "execution_count": null,
      "outputs": [
        {
          "output_type": "stream",
          "name": "stdout",
          "text": [
            "Downloading http://yann.lecun.com/exdb/mnist/train-images-idx3-ubyte.gz\n",
            "Downloading http://yann.lecun.com/exdb/mnist/train-images-idx3-ubyte.gz to data/MNIST/raw/train-images-idx3-ubyte.gz\n"
          ]
        },
        {
          "output_type": "stream",
          "name": "stderr",
          "text": [
            "100%|██████████| 9912422/9912422 [00:00<00:00, 40261183.60it/s]\n"
          ]
        },
        {
          "output_type": "stream",
          "name": "stdout",
          "text": [
            "Extracting data/MNIST/raw/train-images-idx3-ubyte.gz to data/MNIST/raw\n",
            "\n",
            "Downloading http://yann.lecun.com/exdb/mnist/train-labels-idx1-ubyte.gz\n",
            "Downloading http://yann.lecun.com/exdb/mnist/train-labels-idx1-ubyte.gz to data/MNIST/raw/train-labels-idx1-ubyte.gz\n"
          ]
        },
        {
          "output_type": "stream",
          "name": "stderr",
          "text": [
            "100%|██████████| 28881/28881 [00:00<00:00, 35471652.66it/s]\n"
          ]
        },
        {
          "output_type": "stream",
          "name": "stdout",
          "text": [
            "Extracting data/MNIST/raw/train-labels-idx1-ubyte.gz to data/MNIST/raw\n",
            "\n",
            "Downloading http://yann.lecun.com/exdb/mnist/t10k-images-idx3-ubyte.gz\n",
            "Downloading http://yann.lecun.com/exdb/mnist/t10k-images-idx3-ubyte.gz to data/MNIST/raw/t10k-images-idx3-ubyte.gz\n"
          ]
        },
        {
          "output_type": "stream",
          "name": "stderr",
          "text": [
            "100%|██████████| 1648877/1648877 [00:00<00:00, 45209587.23it/s]"
          ]
        },
        {
          "output_type": "stream",
          "name": "stdout",
          "text": [
            "Extracting data/MNIST/raw/t10k-images-idx3-ubyte.gz to data/MNIST/raw\n"
          ]
        },
        {
          "output_type": "stream",
          "name": "stderr",
          "text": [
            "\n"
          ]
        },
        {
          "output_type": "stream",
          "name": "stdout",
          "text": [
            "\n",
            "Downloading http://yann.lecun.com/exdb/mnist/t10k-labels-idx1-ubyte.gz\n",
            "Downloading http://yann.lecun.com/exdb/mnist/t10k-labels-idx1-ubyte.gz to data/MNIST/raw/t10k-labels-idx1-ubyte.gz\n"
          ]
        },
        {
          "output_type": "stream",
          "name": "stderr",
          "text": [
            "100%|██████████| 4542/4542 [00:00<00:00, 18676988.99it/s]\n"
          ]
        },
        {
          "output_type": "stream",
          "name": "stdout",
          "text": [
            "Extracting data/MNIST/raw/t10k-labels-idx1-ubyte.gz to data/MNIST/raw\n",
            "\n"
          ]
        }
      ]
    },
    {
      "cell_type": "markdown",
      "source": [
        "### Model Hyper-Parameters"
      ],
      "metadata": {
        "id": "i5vXzkKJgE8C"
      }
    },
    {
      "cell_type": "code",
      "source": [
        "#Setting of the main hyper-parameters of the model\n",
        "batch_size = 4\n",
        "n_train = batch_size * 125    # Size of the train dataset\n",
        "n_test = batch_size * 25     # Size of the test dataset\n",
        "n_channels = 4\n",
        "initial_lr = 0.0005          # Define your initial learning rate\n",
        "num_epochs = 40"
      ],
      "metadata": {
        "id": "1VHW-I5xOS0v"
      },
      "execution_count": null,
      "outputs": []
    },
    {
      "cell_type": "markdown",
      "source": [
        "Note that in the 'quanv' function we need to copy the 'image' and 'weights' data to the CPU memory before converting to numpy arrays. There may be scope for further optimisation here but at the moment it seems that the PyTorch code requires it."
      ],
      "metadata": {
        "id": "LgAOg2-zgQLe"
      }
    },
    {
      "cell_type": "code",
      "source": [
        "def quanv(image, weights):\n",
        "    \"\"\"Convolves the input image with many applications of the same quantum circuit.\"\"\"\n",
        "    # PyTorch models generally require a 4D input tensor with the\n",
        "    # dimensions - (batch size, channels, height, width)\n",
        "    # input image shape is (batch_size, 1, 14, 14)\n",
        "    # output shape should be (batch_size, 4, 7, 7)\n",
        "    out = np.zeros((batch_size, 4, 7, 7))\n",
        "    l_image = image.detach().cpu().numpy()\n",
        "    l_weights = weights.detach().cpu().numpy()\n",
        "\n",
        "    for i in range(batch_size):\n",
        "        # Loop over the coordinates of the top-left pixel of 2X2 squares\n",
        "        for j in range(0, 14, 2):\n",
        "            for k in range(0, 14, 2):\n",
        "                # Process a squared 2x2 region of the image with a quantum circuit\n",
        "                q_results = circuit(\n",
        "                    [\n",
        "                        l_image[i, 0, j, k] * np.pi,\n",
        "                        l_image[i, 0, j, k + 1] * np.pi,\n",
        "                        l_image[i, 0, j + 1, k] * np.pi,\n",
        "                        l_image[i, 0, j + 1, k + 1] * np.pi\n",
        "                    ],\n",
        "                    l_weights\n",
        "                )\n",
        "                # Assign expectation values to different channels of the output pixel (j/2, k/2)\n",
        "                for c in range(n_channels):\n",
        "                    out[i, c, j // 2, k // 2] = q_results[c]\n",
        "    return out"
      ],
      "metadata": {
        "id": "WyFHBoMOOXbu"
      },
      "execution_count": null,
      "outputs": []
    },
    {
      "cell_type": "markdown",
      "source": [
        "Note that in the HybridFunction.forward method we need to copy the output from 'quanv' to GPU memory. That's done by the '.to(device)' call.  Likewise for the initial values of the 'weights' parameters."
      ],
      "metadata": {
        "id": "Dw50zD1qgp6B"
      }
    },
    {
      "cell_type": "code",
      "source": [
        "# Custom nn.Module class for handling the quantum convolution\n",
        "class QuantConv(nn.Module):\n",
        "\n",
        "    # The number of layers in the BasicEntanglerLayers instance in\n",
        "    # the quantum convolver\n",
        "    LAYERS = 4\n",
        "\n",
        "    def __init__(self):\n",
        "        super(QuantConv, self).__init__()\n",
        "        # Initialise and register weights\n",
        "        # weights have shape (LAYERS, n_qubits) where LAYERS is the\n",
        "        # number of layers in the BasicEntanglerLayers\n",
        "        self.weights = nn.Parameter(\n",
        "            torch.from_numpy(np.random.uniform(\n",
        "                0, np.pi, (QuantConv.LAYERS, n_qubits)))).to(device)\n",
        "\n",
        "    def forward(self, input):\n",
        "        expectation_z = quanv(input, self.weights)\n",
        "        x = torch.tensor(expectation_z).to(device)\n",
        "        return x\n"
      ],
      "metadata": {
        "id": "slcAuPHjOkUq"
      },
      "execution_count": null,
      "outputs": []
    },
    {
      "cell_type": "code",
      "source": [
        "class QuantModel(nn.Module):\n",
        "    def __init__(self):\n",
        "        super(QuantModel, self).__init__()\n",
        "        self.qconv = QuantConv()\n",
        "        self.fc1 = nn.Linear(4 * 7 * 7, 10)\n",
        "        self.double()\n",
        "\n",
        "    def forward(self, x):\n",
        "        # Propagate the input through the CNN layers\n",
        "        x = self.qconv(x)\n",
        "        # Flatten the output from the convolutional layer\n",
        "        x = torch.flatten(x, start_dim=1)\n",
        "        x = F.relu(self.fc1(x))\n",
        "        return x"
      ],
      "metadata": {
        "id": "dNWwY7CTO7BM"
      },
      "execution_count": null,
      "outputs": []
    },
    {
      "cell_type": "markdown",
      "source": [
        "The following isn't strictly necessary but it makes for a 'sanity' check on the code. Note that inputs and labels are copied to GPU memory before calling quanv. This is also done in the training loop."
      ],
      "metadata": {
        "id": "cyrIHOtthCnj"
      }
    },
    {
      "cell_type": "code",
      "source": [
        "# Run the quanv function on a batch of images\n",
        "dataset  = train_data\n",
        "train_size = n_train\n",
        "train_set, val_set = torch.utils.data.random_split(dataset, [train_size, len(dataset) - train_size])\n",
        "train_loader = torch.utils.data.DataLoader(train_set, batch_size=batch_size, shuffle=True)\n",
        "for data in train_loader:\n",
        "    inputs, labels = data\n",
        "    print(f\"{inputs.shape=}\")\n",
        "    print(f\"{labels=}\")\n",
        "    labels = labels.repeat_interleave(n_channels)\n",
        "    inputs, labels = inputs.to(device), labels.to(device)\n",
        "    weights = torch.from_numpy(np.random.uniform(0, np.pi, (4, 4)))\n",
        "    outputs = quanv(inputs, weights)\n",
        "    print(f\"Repeated {labels=}\")\n",
        "    print(f\"{outputs.shape=}\")\n",
        "    #print(f\"{outputs=}\")\n",
        "    break"
      ],
      "metadata": {
        "colab": {
          "base_uri": "https://localhost:8080/"
        },
        "id": "aUAQmCM6PAEN",
        "outputId": "d4e11cdc-b66a-4285-f7ef-9ea46a3711c1"
      },
      "execution_count": null,
      "outputs": [
        {
          "output_type": "stream",
          "name": "stdout",
          "text": [
            "inputs.shape=torch.Size([4, 1, 14, 14])\n",
            "labels=tensor([9, 8, 5, 1])\n",
            "Repeated labels=tensor([9, 9, 9, 9, 8, 8, 8, 8, 5, 5, 5, 5, 1, 1, 1, 1], device='cuda:0')\n",
            "outputs.shape=(4, 4, 7, 7)\n"
          ]
        }
      ]
    },
    {
      "cell_type": "code",
      "source": [
        "# Visualise the inputs/outputs from the quanv function\n",
        "l_inputs = inputs.cpu()\n",
        "n_samples = 4\n",
        "n_channels = 4\n",
        "fig, axes = plt.subplots(1 + n_channels, n_samples, figsize=(10, 10))\n",
        "for k in range(n_samples):\n",
        "    axes[0, 0].set_ylabel(\"Input\")\n",
        "    if k != 0:\n",
        "        axes[0, k].yaxis.set_visible(False)\n",
        "    axes[0, k].imshow(l_inputs[k, 0, :, :], cmap=\"gray\")\n",
        "\n",
        "    # Plot all output channels\n",
        "    for c in range(n_channels):\n",
        "        axes[c + 1, 0].set_ylabel(\"Output [ch. {}]\".format(c))\n",
        "        if k != 0:\n",
        "            axes[c, k].yaxis.set_visible(False)\n",
        "        axes[c + 1, k].set_title(f\"{labels[c+(k*n_samples)]}\")\n",
        "        axes[c + 1, k].imshow(outputs[k, c, :, :], cmap=\"gray\")\n",
        "\n",
        "plt.tight_layout()\n",
        "plt.show()"
      ],
      "metadata": {
        "colab": {
          "base_uri": "https://localhost:8080/",
          "height": 812
        },
        "id": "_NPbZyTNRJ1A",
        "outputId": "0ef74e55-f47f-43d7-a6a5-fff5d87c4894"
      },
      "execution_count": null,
      "outputs": [
        {
          "output_type": "display_data",
          "data": {
            "text/plain": [
              "<Figure size 1000x1000 with 20 Axes>"
            ],
            "image/png": "[encoded data removed]"
          },
          "metadata": {}
        }
      ]
    },
    {
      "cell_type": "markdown",
      "source": [
        "### Create Data Loaders\n",
        "\n",
        "Data loaders for both the training and test/validation datasets are created here. In both cases, a random selection of n_train and n_test objects are taken from the full MNIST dataset.\n",
        "\n",
        "The indices of the selected objects are saved to a file (\"dataset_indices.pt\") so they can be reused at a later time if desired. The REGENERATE_INDICES_FILE should be set to *False* if a previously saved set of dataset indices is to be used and set to *True* if a new randomly selected set of indices should be used.\n",
        "\n",
        "Note that on colab, any saved index files should be downloaded to your local computer since colab will delete such files when the session is disconnected."
      ],
      "metadata": {
        "id": "4gBgKTzrVeel"
      }
    },
    {
      "cell_type": "code",
      "source": [
        "\n",
        "import os\n",
        "from pathlib import Path\n",
        "from torch.utils.data import Subset, DataLoader\n",
        "\n",
        "os.chdir(\"/content\")\n",
        "\n",
        "MODEL_PATH = Path(\"models\")\n",
        "MODEL_PATH.mkdir(parents=True, exist_ok=True)\n",
        "\n",
        "REGENERATE_INDICES_FILE = True\n",
        "\n",
        "SUBSET_INDICES_FILE = Path(\"dataset_indices.pt\")\n",
        "# Randomly generate indexes for the training and test/validation\n",
        "# images from the overall dataset. This only needs to be done\n",
        "# once with subsequent runs reading the indices from the saved file.\n",
        "#\n",
        "if REGENERATE_INDICES_FILE is True:\n",
        "    train_indices = torch.randint(0, len(train_data), (n_train,))\n",
        "    test_indices = torch.randint(0, len(test_data), (n_test,))\n",
        "    torch.save({\"train_indices\": train_indices, \"test_indices\": test_indices},\n",
        "              SUBSET_INDICES_FILE)\n",
        "subset_indices_dict = torch.load(SUBSET_INDICES_FILE)\n",
        "\n",
        "train_subset = Subset(train_data, subset_indices_dict['train_indices'])\n",
        "test_subset = Subset(test_data, subset_indices_dict['test_indices'])\n",
        "\n",
        "train_loader = DataLoader(train_subset, shuffle=False, batch_size=batch_size)\n",
        "val_loader = DataLoader(test_subset, shuffle=False, batch_size=batch_size)\n",
        "print(f\"{len(train_subset)=}\")\n",
        "print(f\"{len(test_subset)=}\")"
      ],
      "metadata": {
        "id": "1fcJytqXzc71",
        "colab": {
          "base_uri": "https://localhost:8080/"
        },
        "outputId": "d9bd6bd6-fc9d-48d1-e72e-c592b72dbaad"
      },
      "execution_count": null,
      "outputs": [
        {
          "output_type": "stream",
          "name": "stdout",
          "text": [
            "len(train_subset)=500\n",
            "len(test_subset)=100\n"
          ]
        }
      ]
    },
    {
      "cell_type": "markdown",
      "source": [
        "### Training Loop"
      ],
      "metadata": {
        "id": "CbP76WEdhVF9"
      }
    },
    {
      "cell_type": "code",
      "source": [
        "import datetime\n",
        "from pathlib import Path\n",
        "import time\n",
        "\n",
        "dataset  = train_data\n",
        "\n",
        "# Initialize your QCNN model\n",
        "cnn = QuantModel().to(device)\n",
        "\n",
        "# Define loss function and optimizer\n",
        "criterion = nn.CrossEntropyLoss()  # Cross-entropy loss for classification\n",
        "optimizer = optim.SGD(cnn.parameters(), lr=initial_lr,\n",
        "                      momentum=0.9)  # Stochastic Gradient Descent optimizer\n",
        "\n",
        "# Create a learning rate scheduler\n",
        "# Here, we use StepLR which reduces the learning rate by a factor every step_size epochs\n",
        "#\n",
        "# Setting step_size = 1.0 will effectively disable the scheduler\n",
        "scheduler = lr_scheduler.StepLR(optimizer, step_size=1, gamma=1.0)\n",
        "\n",
        "train_loader = DataLoader(train_subset, shuffle=False, batch_size=batch_size)\n",
        "\n",
        "MODEL_NAME = \"ImgClass-Quanvolv.pth\"\n",
        "MODEL_SAVE_PATH = MODEL_PATH / MODEL_NAME\n",
        "\n",
        "RESUME_TRAINING = False\n",
        "\n",
        "if RESUME_TRAINING is True:\n",
        "    print(f\"Restore model state from {MODEL_SAVE_PATH}\")\n",
        "    model_dict = torch.load(MODEL_SAVE_PATH)\n",
        "    initial_epoch = model_dict['epoch'] + 1\n",
        "    cnn.load_state_dict(model_dict['model_state_dict'])\n",
        "    optimizer.load_state_dict(model_dict['optimizer_state_dict'])\n",
        "    loss_list = model_dict['loss'].copy()\n",
        "else:\n",
        "    initial_epoch = 0\n",
        "    loss_list = []\n",
        "\n",
        "for epoch in range(initial_epoch, num_epochs):\n",
        "    cnn.train()\n",
        "    ct = datetime.datetime.now()\n",
        "    lr = scheduler.get_last_lr()\n",
        "    print(f\"{epoch=}, {lr=}, {ct}\")\n",
        "    running_loss = []\n",
        "    for i, data in enumerate(train_loader, 0):\n",
        "        inputs, labels = data\n",
        "        inputs, labels = inputs.to(device), labels.to(device)\n",
        "        optimizer.zero_grad()  # Zero the parameter gradients to avoid accumulation\n",
        "        outputs = cnn(inputs)  # Forward pass\n",
        "        loss = criterion(outputs, labels)  # Compute the loss\n",
        "        loss.backward()  # Backpropagation\n",
        "        running_loss.append(loss.item())\n",
        "        optimizer.step()  # Update the model parameters\n",
        "    loss_list.append(sum(running_loss)/len(running_loss))\n",
        "\n",
        "    print('Training [{:.0f}%]\\tLoss: {:.4f}'.format(100. * (epoch + 1) / num_epochs, loss_list[-1]))\n",
        "    torch.save({\n",
        "        'epoch': epoch,\n",
        "        'model_state_dict': cnn.state_dict(),\n",
        "        'optimizer_state_dict': optimizer.state_dict(),\n",
        "        'loss': loss_list,\n",
        "    }, MODEL_SAVE_PATH)\n",
        "    print(f\"Saving model state to {MODEL_SAVE_PATH}\")\n",
        "\n",
        "    val_loader = DataLoader(test_subset, shuffle=False, batch_size=batch_size)\n",
        "    correct = 0\n",
        "    total = 0\n",
        "    # Set the model to evaluation mode\n",
        "    cnn.eval()\n",
        "    with torch.inference_mode():\n",
        "        for data in val_loader:\n",
        "            images, labels = data\n",
        "            images, labels = images.to(device), labels.to(device)\n",
        "            outputs = cnn(images)\n",
        "            _, predicted = torch.max(outputs.data, 1)\n",
        "            total += labels.size(0)\n",
        "            correct += (predicted == labels).sum().item()\n",
        "    print(f'Accuracy on the validation set: {100 * correct / total:.2f}%')\n",
        "\n",
        "    # Decay Learning Rate\n",
        "    scheduler.step()\n",
        "print('Finished Training')"
      ],
      "metadata": {
        "colab": {
          "base_uri": "https://localhost:8080/"
        },
        "id": "vDjf59GxR0PE",
        "outputId": "77c249fd-8638-4ec4-ad5c-20467bbdba1b"
      },
      "execution_count": null,
      "outputs": [
        {
          "output_type": "stream",
          "name": "stdout",
          "text": [
            "epoch=0, lr=[0.0005], 2024-01-06 05:18:14.538093\n",
            "Training [2%]\tLoss: 2.2971\n",
            "Saving model state to models/ImgClass-Quanvolv.pth\n",
            "Accuracy on the validation set: 10.00%\n",
            "epoch=1, lr=[0.0005], 2024-01-06 05:20:04.611698\n",
            "Training [5%]\tLoss: 2.2782\n",
            "Saving model state to models/ImgClass-Quanvolv.pth\n",
            "Accuracy on the validation set: 11.00%\n",
            "epoch=2, lr=[0.0005], 2024-01-06 05:21:53.095138\n",
            "Training [8%]\tLoss: 2.2613\n",
            "Saving model state to models/ImgClass-Quanvolv.pth\n",
            "Accuracy on the validation set: 18.00%\n",
            "epoch=3, lr=[0.0005], 2024-01-06 05:23:42.334454\n",
            "Training [10%]\tLoss: 2.2448\n",
            "Saving model state to models/ImgClass-Quanvolv.pth\n",
            "Accuracy on the validation set: 19.00%\n",
            "epoch=4, lr=[0.0005], 2024-01-06 05:25:30.654572\n",
            "Training [12%]\tLoss: 2.2274\n",
            "Saving model state to models/ImgClass-Quanvolv.pth\n",
            "Accuracy on the validation set: 22.00%\n",
            "epoch=5, lr=[0.0005], 2024-01-06 05:27:19.715867\n",
            "Training [15%]\tLoss: 2.2083\n",
            "Saving model state to models/ImgClass-Quanvolv.pth\n",
            "Accuracy on the validation set: 26.00%\n",
            "epoch=6, lr=[0.0005], 2024-01-06 05:29:07.987849\n",
            "Training [18%]\tLoss: 2.1903\n",
            "Saving model state to models/ImgClass-Quanvolv.pth\n",
            "Accuracy on the validation set: 26.00%\n",
            "epoch=7, lr=[0.0005], 2024-01-06 05:30:57.118689\n",
            "Training [20%]\tLoss: 2.1730\n",
            "Saving model state to models/ImgClass-Quanvolv.pth\n",
            "Accuracy on the validation set: 26.00%\n",
            "epoch=8, lr=[0.0005], 2024-01-06 05:32:45.244608\n"
          ]
        }
      ]
    },
    {
      "cell_type": "markdown",
      "source": [
        "### Model Inference\n",
        "\n",
        "The problem with the 'IndexError' exception has now been fixed."
      ],
      "metadata": {
        "id": "j8H77i8ehkdq"
      }
    },
    {
      "cell_type": "code",
      "source": [
        "\n",
        "\n",
        "#accuracy\n",
        "\n",
        "# Use a small subset of the full validation dataset\n",
        "from torch.utils.data import SubsetRandomSampler\n",
        "\n",
        "K = n_test # enter your length here\n",
        "subsample_train_indices = torch.randperm(len(val_set))[:K]\n",
        "val_loader = torch.utils.data.DataLoader(val_set, batch_size=batch_size, sampler=SubsetRandomSampler(subsample_train_indices))\n",
        "\n",
        "correct = 0\n",
        "total = 0\n",
        "# Set the model to evaluation mode\n",
        "cnn.eval()\n",
        "with torch.inference_mode():\n",
        "    for data in val_loader:\n",
        "        images, labels = data\n",
        "        inputs, labels = inputs.to(device), labels.to(device)\n",
        "        outputs = cnn(images)\n",
        "        _, predicted = torch.max(outputs.data, 1)\n",
        "        total += labels.size(0)\n",
        "        correct += (predicted == labels).sum().item()\n",
        "print(f'Accuracy on the validation set: {100 * correct / total:.2f}%')"
      ],
      "metadata": {
        "id": "7DnoVGSNNwmu"
      },
      "execution_count": null,
      "outputs": []
    }
  ]
}